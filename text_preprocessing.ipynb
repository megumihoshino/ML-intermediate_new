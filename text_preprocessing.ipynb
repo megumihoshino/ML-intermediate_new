{
  "nbformat": 4,
  "nbformat_minor": 0,
  "metadata": {
    "colab": {
      "provenance": [],
      "authorship_tag": "ABX9TyOI9AOrkpraRFVApOsYNPRD",
      "include_colab_link": true
    },
    "kernelspec": {
      "name": "python3",
      "display_name": "Python 3"
    },
    "language_info": {
      "name": "python"
    },
    "widgets": {
      "application/vnd.jupyter.widget-state+json": {
        "4857e43b1d404189a68c651171477081": {
          "model_module": "@jupyter-widgets/controls",
          "model_name": "HBoxModel",
          "model_module_version": "1.5.0",
          "state": {
            "_dom_classes": [],
            "_model_module": "@jupyter-widgets/controls",
            "_model_module_version": "1.5.0",
            "_model_name": "HBoxModel",
            "_view_count": null,
            "_view_module": "@jupyter-widgets/controls",
            "_view_module_version": "1.5.0",
            "_view_name": "HBoxView",
            "box_style": "",
            "children": [
              "IPY_MODEL_6606259ce6404c6a8a3176f24444c4fc",
              "IPY_MODEL_f422dad8b1de4209b7888f262075a671",
              "IPY_MODEL_232033e9e5de42babb5cb715150dc65b"
            ],
            "layout": "IPY_MODEL_b8b90ae7efe24ac597c7756a310ada15"
          }
        },
        "6606259ce6404c6a8a3176f24444c4fc": {
          "model_module": "@jupyter-widgets/controls",
          "model_name": "HTMLModel",
          "model_module_version": "1.5.0",
          "state": {
            "_dom_classes": [],
            "_model_module": "@jupyter-widgets/controls",
            "_model_module_version": "1.5.0",
            "_model_name": "HTMLModel",
            "_view_count": null,
            "_view_module": "@jupyter-widgets/controls",
            "_view_module_version": "1.5.0",
            "_view_name": "HTMLView",
            "description": "",
            "description_tooltip": null,
            "layout": "IPY_MODEL_5a6b6a3fee5641539411e44577e8ff15",
            "placeholder": "​",
            "style": "IPY_MODEL_c93eca41fade46d98fa7fc5177f7a466",
            "value": "tokenizer_config.json: 100%"
          }
        },
        "f422dad8b1de4209b7888f262075a671": {
          "model_module": "@jupyter-widgets/controls",
          "model_name": "FloatProgressModel",
          "model_module_version": "1.5.0",
          "state": {
            "_dom_classes": [],
            "_model_module": "@jupyter-widgets/controls",
            "_model_module_version": "1.5.0",
            "_model_name": "FloatProgressModel",
            "_view_count": null,
            "_view_module": "@jupyter-widgets/controls",
            "_view_module_version": "1.5.0",
            "_view_name": "ProgressView",
            "bar_style": "success",
            "description": "",
            "description_tooltip": null,
            "layout": "IPY_MODEL_e9c6330c999b4dc0820450254aa02c0c",
            "max": 48,
            "min": 0,
            "orientation": "horizontal",
            "style": "IPY_MODEL_954a58dd53494fcd883203cb6fc5d5f1",
            "value": 48
          }
        },
        "232033e9e5de42babb5cb715150dc65b": {
          "model_module": "@jupyter-widgets/controls",
          "model_name": "HTMLModel",
          "model_module_version": "1.5.0",
          "state": {
            "_dom_classes": [],
            "_model_module": "@jupyter-widgets/controls",
            "_model_module_version": "1.5.0",
            "_model_name": "HTMLModel",
            "_view_count": null,
            "_view_module": "@jupyter-widgets/controls",
            "_view_module_version": "1.5.0",
            "_view_name": "HTMLView",
            "description": "",
            "description_tooltip": null,
            "layout": "IPY_MODEL_176ee67c53204860b860a8daa6662644",
            "placeholder": "​",
            "style": "IPY_MODEL_0e4918c2dae94f65bee4a37ad32b327f",
            "value": " 48.0/48.0 [00:00&lt;00:00, 734B/s]"
          }
        },
        "b8b90ae7efe24ac597c7756a310ada15": {
          "model_module": "@jupyter-widgets/base",
          "model_name": "LayoutModel",
          "model_module_version": "1.2.0",
          "state": {
            "_model_module": "@jupyter-widgets/base",
            "_model_module_version": "1.2.0",
            "_model_name": "LayoutModel",
            "_view_count": null,
            "_view_module": "@jupyter-widgets/base",
            "_view_module_version": "1.2.0",
            "_view_name": "LayoutView",
            "align_content": null,
            "align_items": null,
            "align_self": null,
            "border": null,
            "bottom": null,
            "display": null,
            "flex": null,
            "flex_flow": null,
            "grid_area": null,
            "grid_auto_columns": null,
            "grid_auto_flow": null,
            "grid_auto_rows": null,
            "grid_column": null,
            "grid_gap": null,
            "grid_row": null,
            "grid_template_areas": null,
            "grid_template_columns": null,
            "grid_template_rows": null,
            "height": null,
            "justify_content": null,
            "justify_items": null,
            "left": null,
            "margin": null,
            "max_height": null,
            "max_width": null,
            "min_height": null,
            "min_width": null,
            "object_fit": null,
            "object_position": null,
            "order": null,
            "overflow": null,
            "overflow_x": null,
            "overflow_y": null,
            "padding": null,
            "right": null,
            "top": null,
            "visibility": null,
            "width": null
          }
        },
        "5a6b6a3fee5641539411e44577e8ff15": {
          "model_module": "@jupyter-widgets/base",
          "model_name": "LayoutModel",
          "model_module_version": "1.2.0",
          "state": {
            "_model_module": "@jupyter-widgets/base",
            "_model_module_version": "1.2.0",
            "_model_name": "LayoutModel",
            "_view_count": null,
            "_view_module": "@jupyter-widgets/base",
            "_view_module_version": "1.2.0",
            "_view_name": "LayoutView",
            "align_content": null,
            "align_items": null,
            "align_self": null,
            "border": null,
            "bottom": null,
            "display": null,
            "flex": null,
            "flex_flow": null,
            "grid_area": null,
            "grid_auto_columns": null,
            "grid_auto_flow": null,
            "grid_auto_rows": null,
            "grid_column": null,
            "grid_gap": null,
            "grid_row": null,
            "grid_template_areas": null,
            "grid_template_columns": null,
            "grid_template_rows": null,
            "height": null,
            "justify_content": null,
            "justify_items": null,
            "left": null,
            "margin": null,
            "max_height": null,
            "max_width": null,
            "min_height": null,
            "min_width": null,
            "object_fit": null,
            "object_position": null,
            "order": null,
            "overflow": null,
            "overflow_x": null,
            "overflow_y": null,
            "padding": null,
            "right": null,
            "top": null,
            "visibility": null,
            "width": null
          }
        },
        "c93eca41fade46d98fa7fc5177f7a466": {
          "model_module": "@jupyter-widgets/controls",
          "model_name": "DescriptionStyleModel",
          "model_module_version": "1.5.0",
          "state": {
            "_model_module": "@jupyter-widgets/controls",
            "_model_module_version": "1.5.0",
            "_model_name": "DescriptionStyleModel",
            "_view_count": null,
            "_view_module": "@jupyter-widgets/base",
            "_view_module_version": "1.2.0",
            "_view_name": "StyleView",
            "description_width": ""
          }
        },
        "e9c6330c999b4dc0820450254aa02c0c": {
          "model_module": "@jupyter-widgets/base",
          "model_name": "LayoutModel",
          "model_module_version": "1.2.0",
          "state": {
            "_model_module": "@jupyter-widgets/base",
            "_model_module_version": "1.2.0",
            "_model_name": "LayoutModel",
            "_view_count": null,
            "_view_module": "@jupyter-widgets/base",
            "_view_module_version": "1.2.0",
            "_view_name": "LayoutView",
            "align_content": null,
            "align_items": null,
            "align_self": null,
            "border": null,
            "bottom": null,
            "display": null,
            "flex": null,
            "flex_flow": null,
            "grid_area": null,
            "grid_auto_columns": null,
            "grid_auto_flow": null,
            "grid_auto_rows": null,
            "grid_column": null,
            "grid_gap": null,
            "grid_row": null,
            "grid_template_areas": null,
            "grid_template_columns": null,
            "grid_template_rows": null,
            "height": null,
            "justify_content": null,
            "justify_items": null,
            "left": null,
            "margin": null,
            "max_height": null,
            "max_width": null,
            "min_height": null,
            "min_width": null,
            "object_fit": null,
            "object_position": null,
            "order": null,
            "overflow": null,
            "overflow_x": null,
            "overflow_y": null,
            "padding": null,
            "right": null,
            "top": null,
            "visibility": null,
            "width": null
          }
        },
        "954a58dd53494fcd883203cb6fc5d5f1": {
          "model_module": "@jupyter-widgets/controls",
          "model_name": "ProgressStyleModel",
          "model_module_version": "1.5.0",
          "state": {
            "_model_module": "@jupyter-widgets/controls",
            "_model_module_version": "1.5.0",
            "_model_name": "ProgressStyleModel",
            "_view_count": null,
            "_view_module": "@jupyter-widgets/base",
            "_view_module_version": "1.2.0",
            "_view_name": "StyleView",
            "bar_color": null,
            "description_width": ""
          }
        },
        "176ee67c53204860b860a8daa6662644": {
          "model_module": "@jupyter-widgets/base",
          "model_name": "LayoutModel",
          "model_module_version": "1.2.0",
          "state": {
            "_model_module": "@jupyter-widgets/base",
            "_model_module_version": "1.2.0",
            "_model_name": "LayoutModel",
            "_view_count": null,
            "_view_module": "@jupyter-widgets/base",
            "_view_module_version": "1.2.0",
            "_view_name": "LayoutView",
            "align_content": null,
            "align_items": null,
            "align_self": null,
            "border": null,
            "bottom": null,
            "display": null,
            "flex": null,
            "flex_flow": null,
            "grid_area": null,
            "grid_auto_columns": null,
            "grid_auto_flow": null,
            "grid_auto_rows": null,
            "grid_column": null,
            "grid_gap": null,
            "grid_row": null,
            "grid_template_areas": null,
            "grid_template_columns": null,
            "grid_template_rows": null,
            "height": null,
            "justify_content": null,
            "justify_items": null,
            "left": null,
            "margin": null,
            "max_height": null,
            "max_width": null,
            "min_height": null,
            "min_width": null,
            "object_fit": null,
            "object_position": null,
            "order": null,
            "overflow": null,
            "overflow_x": null,
            "overflow_y": null,
            "padding": null,
            "right": null,
            "top": null,
            "visibility": null,
            "width": null
          }
        },
        "0e4918c2dae94f65bee4a37ad32b327f": {
          "model_module": "@jupyter-widgets/controls",
          "model_name": "DescriptionStyleModel",
          "model_module_version": "1.5.0",
          "state": {
            "_model_module": "@jupyter-widgets/controls",
            "_model_module_version": "1.5.0",
            "_model_name": "DescriptionStyleModel",
            "_view_count": null,
            "_view_module": "@jupyter-widgets/base",
            "_view_module_version": "1.2.0",
            "_view_name": "StyleView",
            "description_width": ""
          }
        },
        "42fff7f593c64ef2b3208d493254d19e": {
          "model_module": "@jupyter-widgets/controls",
          "model_name": "HBoxModel",
          "model_module_version": "1.5.0",
          "state": {
            "_dom_classes": [],
            "_model_module": "@jupyter-widgets/controls",
            "_model_module_version": "1.5.0",
            "_model_name": "HBoxModel",
            "_view_count": null,
            "_view_module": "@jupyter-widgets/controls",
            "_view_module_version": "1.5.0",
            "_view_name": "HBoxView",
            "box_style": "",
            "children": [
              "IPY_MODEL_1810debf59404979b4dc6e29fc6c594e",
              "IPY_MODEL_7e5bae91d8e44a5284d4f40ec7cb7de4",
              "IPY_MODEL_4318f3d499f94b589a22b8673bf293eb"
            ],
            "layout": "IPY_MODEL_295e07f9bfac47108e0a2e7977287097"
          }
        },
        "1810debf59404979b4dc6e29fc6c594e": {
          "model_module": "@jupyter-widgets/controls",
          "model_name": "HTMLModel",
          "model_module_version": "1.5.0",
          "state": {
            "_dom_classes": [],
            "_model_module": "@jupyter-widgets/controls",
            "_model_module_version": "1.5.0",
            "_model_name": "HTMLModel",
            "_view_count": null,
            "_view_module": "@jupyter-widgets/controls",
            "_view_module_version": "1.5.0",
            "_view_name": "HTMLView",
            "description": "",
            "description_tooltip": null,
            "layout": "IPY_MODEL_cf83a58cfb034c4583d8741cb36d8972",
            "placeholder": "​",
            "style": "IPY_MODEL_7c07b52b92f74ba683d2b4c5e121f099",
            "value": "config.json: 100%"
          }
        },
        "7e5bae91d8e44a5284d4f40ec7cb7de4": {
          "model_module": "@jupyter-widgets/controls",
          "model_name": "FloatProgressModel",
          "model_module_version": "1.5.0",
          "state": {
            "_dom_classes": [],
            "_model_module": "@jupyter-widgets/controls",
            "_model_module_version": "1.5.0",
            "_model_name": "FloatProgressModel",
            "_view_count": null,
            "_view_module": "@jupyter-widgets/controls",
            "_view_module_version": "1.5.0",
            "_view_name": "ProgressView",
            "bar_style": "success",
            "description": "",
            "description_tooltip": null,
            "layout": "IPY_MODEL_44cc0279e83f4208931170b0f78606a9",
            "max": 570,
            "min": 0,
            "orientation": "horizontal",
            "style": "IPY_MODEL_c3c2ff999c8c431d96584b75c01f45a6",
            "value": 570
          }
        },
        "4318f3d499f94b589a22b8673bf293eb": {
          "model_module": "@jupyter-widgets/controls",
          "model_name": "HTMLModel",
          "model_module_version": "1.5.0",
          "state": {
            "_dom_classes": [],
            "_model_module": "@jupyter-widgets/controls",
            "_model_module_version": "1.5.0",
            "_model_name": "HTMLModel",
            "_view_count": null,
            "_view_module": "@jupyter-widgets/controls",
            "_view_module_version": "1.5.0",
            "_view_name": "HTMLView",
            "description": "",
            "description_tooltip": null,
            "layout": "IPY_MODEL_b7d2f854132a4920bdcd3f21055b5068",
            "placeholder": "​",
            "style": "IPY_MODEL_b92f71184e57432aba3f0e5aefaedb4a",
            "value": " 570/570 [00:00&lt;00:00, 9.89kB/s]"
          }
        },
        "295e07f9bfac47108e0a2e7977287097": {
          "model_module": "@jupyter-widgets/base",
          "model_name": "LayoutModel",
          "model_module_version": "1.2.0",
          "state": {
            "_model_module": "@jupyter-widgets/base",
            "_model_module_version": "1.2.0",
            "_model_name": "LayoutModel",
            "_view_count": null,
            "_view_module": "@jupyter-widgets/base",
            "_view_module_version": "1.2.0",
            "_view_name": "LayoutView",
            "align_content": null,
            "align_items": null,
            "align_self": null,
            "border": null,
            "bottom": null,
            "display": null,
            "flex": null,
            "flex_flow": null,
            "grid_area": null,
            "grid_auto_columns": null,
            "grid_auto_flow": null,
            "grid_auto_rows": null,
            "grid_column": null,
            "grid_gap": null,
            "grid_row": null,
            "grid_template_areas": null,
            "grid_template_columns": null,
            "grid_template_rows": null,
            "height": null,
            "justify_content": null,
            "justify_items": null,
            "left": null,
            "margin": null,
            "max_height": null,
            "max_width": null,
            "min_height": null,
            "min_width": null,
            "object_fit": null,
            "object_position": null,
            "order": null,
            "overflow": null,
            "overflow_x": null,
            "overflow_y": null,
            "padding": null,
            "right": null,
            "top": null,
            "visibility": null,
            "width": null
          }
        },
        "cf83a58cfb034c4583d8741cb36d8972": {
          "model_module": "@jupyter-widgets/base",
          "model_name": "LayoutModel",
          "model_module_version": "1.2.0",
          "state": {
            "_model_module": "@jupyter-widgets/base",
            "_model_module_version": "1.2.0",
            "_model_name": "LayoutModel",
            "_view_count": null,
            "_view_module": "@jupyter-widgets/base",
            "_view_module_version": "1.2.0",
            "_view_name": "LayoutView",
            "align_content": null,
            "align_items": null,
            "align_self": null,
            "border": null,
            "bottom": null,
            "display": null,
            "flex": null,
            "flex_flow": null,
            "grid_area": null,
            "grid_auto_columns": null,
            "grid_auto_flow": null,
            "grid_auto_rows": null,
            "grid_column": null,
            "grid_gap": null,
            "grid_row": null,
            "grid_template_areas": null,
            "grid_template_columns": null,
            "grid_template_rows": null,
            "height": null,
            "justify_content": null,
            "justify_items": null,
            "left": null,
            "margin": null,
            "max_height": null,
            "max_width": null,
            "min_height": null,
            "min_width": null,
            "object_fit": null,
            "object_position": null,
            "order": null,
            "overflow": null,
            "overflow_x": null,
            "overflow_y": null,
            "padding": null,
            "right": null,
            "top": null,
            "visibility": null,
            "width": null
          }
        },
        "7c07b52b92f74ba683d2b4c5e121f099": {
          "model_module": "@jupyter-widgets/controls",
          "model_name": "DescriptionStyleModel",
          "model_module_version": "1.5.0",
          "state": {
            "_model_module": "@jupyter-widgets/controls",
            "_model_module_version": "1.5.0",
            "_model_name": "DescriptionStyleModel",
            "_view_count": null,
            "_view_module": "@jupyter-widgets/base",
            "_view_module_version": "1.2.0",
            "_view_name": "StyleView",
            "description_width": ""
          }
        },
        "44cc0279e83f4208931170b0f78606a9": {
          "model_module": "@jupyter-widgets/base",
          "model_name": "LayoutModel",
          "model_module_version": "1.2.0",
          "state": {
            "_model_module": "@jupyter-widgets/base",
            "_model_module_version": "1.2.0",
            "_model_name": "LayoutModel",
            "_view_count": null,
            "_view_module": "@jupyter-widgets/base",
            "_view_module_version": "1.2.0",
            "_view_name": "LayoutView",
            "align_content": null,
            "align_items": null,
            "align_self": null,
            "border": null,
            "bottom": null,
            "display": null,
            "flex": null,
            "flex_flow": null,
            "grid_area": null,
            "grid_auto_columns": null,
            "grid_auto_flow": null,
            "grid_auto_rows": null,
            "grid_column": null,
            "grid_gap": null,
            "grid_row": null,
            "grid_template_areas": null,
            "grid_template_columns": null,
            "grid_template_rows": null,
            "height": null,
            "justify_content": null,
            "justify_items": null,
            "left": null,
            "margin": null,
            "max_height": null,
            "max_width": null,
            "min_height": null,
            "min_width": null,
            "object_fit": null,
            "object_position": null,
            "order": null,
            "overflow": null,
            "overflow_x": null,
            "overflow_y": null,
            "padding": null,
            "right": null,
            "top": null,
            "visibility": null,
            "width": null
          }
        },
        "c3c2ff999c8c431d96584b75c01f45a6": {
          "model_module": "@jupyter-widgets/controls",
          "model_name": "ProgressStyleModel",
          "model_module_version": "1.5.0",
          "state": {
            "_model_module": "@jupyter-widgets/controls",
            "_model_module_version": "1.5.0",
            "_model_name": "ProgressStyleModel",
            "_view_count": null,
            "_view_module": "@jupyter-widgets/base",
            "_view_module_version": "1.2.0",
            "_view_name": "StyleView",
            "bar_color": null,
            "description_width": ""
          }
        },
        "b7d2f854132a4920bdcd3f21055b5068": {
          "model_module": "@jupyter-widgets/base",
          "model_name": "LayoutModel",
          "model_module_version": "1.2.0",
          "state": {
            "_model_module": "@jupyter-widgets/base",
            "_model_module_version": "1.2.0",
            "_model_name": "LayoutModel",
            "_view_count": null,
            "_view_module": "@jupyter-widgets/base",
            "_view_module_version": "1.2.0",
            "_view_name": "LayoutView",
            "align_content": null,
            "align_items": null,
            "align_self": null,
            "border": null,
            "bottom": null,
            "display": null,
            "flex": null,
            "flex_flow": null,
            "grid_area": null,
            "grid_auto_columns": null,
            "grid_auto_flow": null,
            "grid_auto_rows": null,
            "grid_column": null,
            "grid_gap": null,
            "grid_row": null,
            "grid_template_areas": null,
            "grid_template_columns": null,
            "grid_template_rows": null,
            "height": null,
            "justify_content": null,
            "justify_items": null,
            "left": null,
            "margin": null,
            "max_height": null,
            "max_width": null,
            "min_height": null,
            "min_width": null,
            "object_fit": null,
            "object_position": null,
            "order": null,
            "overflow": null,
            "overflow_x": null,
            "overflow_y": null,
            "padding": null,
            "right": null,
            "top": null,
            "visibility": null,
            "width": null
          }
        },
        "b92f71184e57432aba3f0e5aefaedb4a": {
          "model_module": "@jupyter-widgets/controls",
          "model_name": "DescriptionStyleModel",
          "model_module_version": "1.5.0",
          "state": {
            "_model_module": "@jupyter-widgets/controls",
            "_model_module_version": "1.5.0",
            "_model_name": "DescriptionStyleModel",
            "_view_count": null,
            "_view_module": "@jupyter-widgets/base",
            "_view_module_version": "1.2.0",
            "_view_name": "StyleView",
            "description_width": ""
          }
        },
        "2413eb2b0fbb40caadcc123ee06b4cf6": {
          "model_module": "@jupyter-widgets/controls",
          "model_name": "HBoxModel",
          "model_module_version": "1.5.0",
          "state": {
            "_dom_classes": [],
            "_model_module": "@jupyter-widgets/controls",
            "_model_module_version": "1.5.0",
            "_model_name": "HBoxModel",
            "_view_count": null,
            "_view_module": "@jupyter-widgets/controls",
            "_view_module_version": "1.5.0",
            "_view_name": "HBoxView",
            "box_style": "",
            "children": [
              "IPY_MODEL_eac62f84d0e94ed0968e293f1d29c470",
              "IPY_MODEL_f6ec409f7d2a49d1a9e5bde12915868f",
              "IPY_MODEL_8c496119c3534347acc2d6122f1180c9"
            ],
            "layout": "IPY_MODEL_39215823d239478eb7db52c1979a7d7d"
          }
        },
        "eac62f84d0e94ed0968e293f1d29c470": {
          "model_module": "@jupyter-widgets/controls",
          "model_name": "HTMLModel",
          "model_module_version": "1.5.0",
          "state": {
            "_dom_classes": [],
            "_model_module": "@jupyter-widgets/controls",
            "_model_module_version": "1.5.0",
            "_model_name": "HTMLModel",
            "_view_count": null,
            "_view_module": "@jupyter-widgets/controls",
            "_view_module_version": "1.5.0",
            "_view_name": "HTMLView",
            "description": "",
            "description_tooltip": null,
            "layout": "IPY_MODEL_9e1210b6c6d04bf0a4d1aa04146470af",
            "placeholder": "​",
            "style": "IPY_MODEL_0384d612fcc6433cbca57be024ae209a",
            "value": "vocab.txt: 100%"
          }
        },
        "f6ec409f7d2a49d1a9e5bde12915868f": {
          "model_module": "@jupyter-widgets/controls",
          "model_name": "FloatProgressModel",
          "model_module_version": "1.5.0",
          "state": {
            "_dom_classes": [],
            "_model_module": "@jupyter-widgets/controls",
            "_model_module_version": "1.5.0",
            "_model_name": "FloatProgressModel",
            "_view_count": null,
            "_view_module": "@jupyter-widgets/controls",
            "_view_module_version": "1.5.0",
            "_view_name": "ProgressView",
            "bar_style": "success",
            "description": "",
            "description_tooltip": null,
            "layout": "IPY_MODEL_bd947e3c90f649fd9c93b9a9de4febff",
            "max": 231508,
            "min": 0,
            "orientation": "horizontal",
            "style": "IPY_MODEL_a81ce82c19da4cebb8b5174776c1554a",
            "value": 231508
          }
        },
        "8c496119c3534347acc2d6122f1180c9": {
          "model_module": "@jupyter-widgets/controls",
          "model_name": "HTMLModel",
          "model_module_version": "1.5.0",
          "state": {
            "_dom_classes": [],
            "_model_module": "@jupyter-widgets/controls",
            "_model_module_version": "1.5.0",
            "_model_name": "HTMLModel",
            "_view_count": null,
            "_view_module": "@jupyter-widgets/controls",
            "_view_module_version": "1.5.0",
            "_view_name": "HTMLView",
            "description": "",
            "description_tooltip": null,
            "layout": "IPY_MODEL_03d9b072063142f0ab3e09d1738d533f",
            "placeholder": "​",
            "style": "IPY_MODEL_2b28e708c5ed4f6c9c8faa0abaa3af97",
            "value": " 232k/232k [00:00&lt;00:00, 2.93MB/s]"
          }
        },
        "39215823d239478eb7db52c1979a7d7d": {
          "model_module": "@jupyter-widgets/base",
          "model_name": "LayoutModel",
          "model_module_version": "1.2.0",
          "state": {
            "_model_module": "@jupyter-widgets/base",
            "_model_module_version": "1.2.0",
            "_model_name": "LayoutModel",
            "_view_count": null,
            "_view_module": "@jupyter-widgets/base",
            "_view_module_version": "1.2.0",
            "_view_name": "LayoutView",
            "align_content": null,
            "align_items": null,
            "align_self": null,
            "border": null,
            "bottom": null,
            "display": null,
            "flex": null,
            "flex_flow": null,
            "grid_area": null,
            "grid_auto_columns": null,
            "grid_auto_flow": null,
            "grid_auto_rows": null,
            "grid_column": null,
            "grid_gap": null,
            "grid_row": null,
            "grid_template_areas": null,
            "grid_template_columns": null,
            "grid_template_rows": null,
            "height": null,
            "justify_content": null,
            "justify_items": null,
            "left": null,
            "margin": null,
            "max_height": null,
            "max_width": null,
            "min_height": null,
            "min_width": null,
            "object_fit": null,
            "object_position": null,
            "order": null,
            "overflow": null,
            "overflow_x": null,
            "overflow_y": null,
            "padding": null,
            "right": null,
            "top": null,
            "visibility": null,
            "width": null
          }
        },
        "9e1210b6c6d04bf0a4d1aa04146470af": {
          "model_module": "@jupyter-widgets/base",
          "model_name": "LayoutModel",
          "model_module_version": "1.2.0",
          "state": {
            "_model_module": "@jupyter-widgets/base",
            "_model_module_version": "1.2.0",
            "_model_name": "LayoutModel",
            "_view_count": null,
            "_view_module": "@jupyter-widgets/base",
            "_view_module_version": "1.2.0",
            "_view_name": "LayoutView",
            "align_content": null,
            "align_items": null,
            "align_self": null,
            "border": null,
            "bottom": null,
            "display": null,
            "flex": null,
            "flex_flow": null,
            "grid_area": null,
            "grid_auto_columns": null,
            "grid_auto_flow": null,
            "grid_auto_rows": null,
            "grid_column": null,
            "grid_gap": null,
            "grid_row": null,
            "grid_template_areas": null,
            "grid_template_columns": null,
            "grid_template_rows": null,
            "height": null,
            "justify_content": null,
            "justify_items": null,
            "left": null,
            "margin": null,
            "max_height": null,
            "max_width": null,
            "min_height": null,
            "min_width": null,
            "object_fit": null,
            "object_position": null,
            "order": null,
            "overflow": null,
            "overflow_x": null,
            "overflow_y": null,
            "padding": null,
            "right": null,
            "top": null,
            "visibility": null,
            "width": null
          }
        },
        "0384d612fcc6433cbca57be024ae209a": {
          "model_module": "@jupyter-widgets/controls",
          "model_name": "DescriptionStyleModel",
          "model_module_version": "1.5.0",
          "state": {
            "_model_module": "@jupyter-widgets/controls",
            "_model_module_version": "1.5.0",
            "_model_name": "DescriptionStyleModel",
            "_view_count": null,
            "_view_module": "@jupyter-widgets/base",
            "_view_module_version": "1.2.0",
            "_view_name": "StyleView",
            "description_width": ""
          }
        },
        "bd947e3c90f649fd9c93b9a9de4febff": {
          "model_module": "@jupyter-widgets/base",
          "model_name": "LayoutModel",
          "model_module_version": "1.2.0",
          "state": {
            "_model_module": "@jupyter-widgets/base",
            "_model_module_version": "1.2.0",
            "_model_name": "LayoutModel",
            "_view_count": null,
            "_view_module": "@jupyter-widgets/base",
            "_view_module_version": "1.2.0",
            "_view_name": "LayoutView",
            "align_content": null,
            "align_items": null,
            "align_self": null,
            "border": null,
            "bottom": null,
            "display": null,
            "flex": null,
            "flex_flow": null,
            "grid_area": null,
            "grid_auto_columns": null,
            "grid_auto_flow": null,
            "grid_auto_rows": null,
            "grid_column": null,
            "grid_gap": null,
            "grid_row": null,
            "grid_template_areas": null,
            "grid_template_columns": null,
            "grid_template_rows": null,
            "height": null,
            "justify_content": null,
            "justify_items": null,
            "left": null,
            "margin": null,
            "max_height": null,
            "max_width": null,
            "min_height": null,
            "min_width": null,
            "object_fit": null,
            "object_position": null,
            "order": null,
            "overflow": null,
            "overflow_x": null,
            "overflow_y": null,
            "padding": null,
            "right": null,
            "top": null,
            "visibility": null,
            "width": null
          }
        },
        "a81ce82c19da4cebb8b5174776c1554a": {
          "model_module": "@jupyter-widgets/controls",
          "model_name": "ProgressStyleModel",
          "model_module_version": "1.5.0",
          "state": {
            "_model_module": "@jupyter-widgets/controls",
            "_model_module_version": "1.5.0",
            "_model_name": "ProgressStyleModel",
            "_view_count": null,
            "_view_module": "@jupyter-widgets/base",
            "_view_module_version": "1.2.0",
            "_view_name": "StyleView",
            "bar_color": null,
            "description_width": ""
          }
        },
        "03d9b072063142f0ab3e09d1738d533f": {
          "model_module": "@jupyter-widgets/base",
          "model_name": "LayoutModel",
          "model_module_version": "1.2.0",
          "state": {
            "_model_module": "@jupyter-widgets/base",
            "_model_module_version": "1.2.0",
            "_model_name": "LayoutModel",
            "_view_count": null,
            "_view_module": "@jupyter-widgets/base",
            "_view_module_version": "1.2.0",
            "_view_name": "LayoutView",
            "align_content": null,
            "align_items": null,
            "align_self": null,
            "border": null,
            "bottom": null,
            "display": null,
            "flex": null,
            "flex_flow": null,
            "grid_area": null,
            "grid_auto_columns": null,
            "grid_auto_flow": null,
            "grid_auto_rows": null,
            "grid_column": null,
            "grid_gap": null,
            "grid_row": null,
            "grid_template_areas": null,
            "grid_template_columns": null,
            "grid_template_rows": null,
            "height": null,
            "justify_content": null,
            "justify_items": null,
            "left": null,
            "margin": null,
            "max_height": null,
            "max_width": null,
            "min_height": null,
            "min_width": null,
            "object_fit": null,
            "object_position": null,
            "order": null,
            "overflow": null,
            "overflow_x": null,
            "overflow_y": null,
            "padding": null,
            "right": null,
            "top": null,
            "visibility": null,
            "width": null
          }
        },
        "2b28e708c5ed4f6c9c8faa0abaa3af97": {
          "model_module": "@jupyter-widgets/controls",
          "model_name": "DescriptionStyleModel",
          "model_module_version": "1.5.0",
          "state": {
            "_model_module": "@jupyter-widgets/controls",
            "_model_module_version": "1.5.0",
            "_model_name": "DescriptionStyleModel",
            "_view_count": null,
            "_view_module": "@jupyter-widgets/base",
            "_view_module_version": "1.2.0",
            "_view_name": "StyleView",
            "description_width": ""
          }
        },
        "76d31981ca8b4730951c948213ae668e": {
          "model_module": "@jupyter-widgets/controls",
          "model_name": "HBoxModel",
          "model_module_version": "1.5.0",
          "state": {
            "_dom_classes": [],
            "_model_module": "@jupyter-widgets/controls",
            "_model_module_version": "1.5.0",
            "_model_name": "HBoxModel",
            "_view_count": null,
            "_view_module": "@jupyter-widgets/controls",
            "_view_module_version": "1.5.0",
            "_view_name": "HBoxView",
            "box_style": "",
            "children": [
              "IPY_MODEL_86f85ab77d28491583a8f8b1fd79ce54",
              "IPY_MODEL_b05456971f8d4a879189260b97109abd",
              "IPY_MODEL_2278706794ae4c0fb81fe87e3e5e6b62"
            ],
            "layout": "IPY_MODEL_f1c21c465ec04137842a5a8a0b858998"
          }
        },
        "86f85ab77d28491583a8f8b1fd79ce54": {
          "model_module": "@jupyter-widgets/controls",
          "model_name": "HTMLModel",
          "model_module_version": "1.5.0",
          "state": {
            "_dom_classes": [],
            "_model_module": "@jupyter-widgets/controls",
            "_model_module_version": "1.5.0",
            "_model_name": "HTMLModel",
            "_view_count": null,
            "_view_module": "@jupyter-widgets/controls",
            "_view_module_version": "1.5.0",
            "_view_name": "HTMLView",
            "description": "",
            "description_tooltip": null,
            "layout": "IPY_MODEL_f1cc0d675f4c47589f90e2ea4b43f294",
            "placeholder": "​",
            "style": "IPY_MODEL_2f91df0635f34867ae341da269952474",
            "value": "tokenizer.json: 100%"
          }
        },
        "b05456971f8d4a879189260b97109abd": {
          "model_module": "@jupyter-widgets/controls",
          "model_name": "FloatProgressModel",
          "model_module_version": "1.5.0",
          "state": {
            "_dom_classes": [],
            "_model_module": "@jupyter-widgets/controls",
            "_model_module_version": "1.5.0",
            "_model_name": "FloatProgressModel",
            "_view_count": null,
            "_view_module": "@jupyter-widgets/controls",
            "_view_module_version": "1.5.0",
            "_view_name": "ProgressView",
            "bar_style": "success",
            "description": "",
            "description_tooltip": null,
            "layout": "IPY_MODEL_0348a5be955541738fbff6add097f9e4",
            "max": 466062,
            "min": 0,
            "orientation": "horizontal",
            "style": "IPY_MODEL_1faf140811f140daa1538e789c5bb759",
            "value": 466062
          }
        },
        "2278706794ae4c0fb81fe87e3e5e6b62": {
          "model_module": "@jupyter-widgets/controls",
          "model_name": "HTMLModel",
          "model_module_version": "1.5.0",
          "state": {
            "_dom_classes": [],
            "_model_module": "@jupyter-widgets/controls",
            "_model_module_version": "1.5.0",
            "_model_name": "HTMLModel",
            "_view_count": null,
            "_view_module": "@jupyter-widgets/controls",
            "_view_module_version": "1.5.0",
            "_view_name": "HTMLView",
            "description": "",
            "description_tooltip": null,
            "layout": "IPY_MODEL_d5599eb6ada148daaa66e750ad61b0fd",
            "placeholder": "​",
            "style": "IPY_MODEL_550fdabbaa0345c1bf52ea54b9bb02ec",
            "value": " 466k/466k [00:00&lt;00:00, 8.68MB/s]"
          }
        },
        "f1c21c465ec04137842a5a8a0b858998": {
          "model_module": "@jupyter-widgets/base",
          "model_name": "LayoutModel",
          "model_module_version": "1.2.0",
          "state": {
            "_model_module": "@jupyter-widgets/base",
            "_model_module_version": "1.2.0",
            "_model_name": "LayoutModel",
            "_view_count": null,
            "_view_module": "@jupyter-widgets/base",
            "_view_module_version": "1.2.0",
            "_view_name": "LayoutView",
            "align_content": null,
            "align_items": null,
            "align_self": null,
            "border": null,
            "bottom": null,
            "display": null,
            "flex": null,
            "flex_flow": null,
            "grid_area": null,
            "grid_auto_columns": null,
            "grid_auto_flow": null,
            "grid_auto_rows": null,
            "grid_column": null,
            "grid_gap": null,
            "grid_row": null,
            "grid_template_areas": null,
            "grid_template_columns": null,
            "grid_template_rows": null,
            "height": null,
            "justify_content": null,
            "justify_items": null,
            "left": null,
            "margin": null,
            "max_height": null,
            "max_width": null,
            "min_height": null,
            "min_width": null,
            "object_fit": null,
            "object_position": null,
            "order": null,
            "overflow": null,
            "overflow_x": null,
            "overflow_y": null,
            "padding": null,
            "right": null,
            "top": null,
            "visibility": null,
            "width": null
          }
        },
        "f1cc0d675f4c47589f90e2ea4b43f294": {
          "model_module": "@jupyter-widgets/base",
          "model_name": "LayoutModel",
          "model_module_version": "1.2.0",
          "state": {
            "_model_module": "@jupyter-widgets/base",
            "_model_module_version": "1.2.0",
            "_model_name": "LayoutModel",
            "_view_count": null,
            "_view_module": "@jupyter-widgets/base",
            "_view_module_version": "1.2.0",
            "_view_name": "LayoutView",
            "align_content": null,
            "align_items": null,
            "align_self": null,
            "border": null,
            "bottom": null,
            "display": null,
            "flex": null,
            "flex_flow": null,
            "grid_area": null,
            "grid_auto_columns": null,
            "grid_auto_flow": null,
            "grid_auto_rows": null,
            "grid_column": null,
            "grid_gap": null,
            "grid_row": null,
            "grid_template_areas": null,
            "grid_template_columns": null,
            "grid_template_rows": null,
            "height": null,
            "justify_content": null,
            "justify_items": null,
            "left": null,
            "margin": null,
            "max_height": null,
            "max_width": null,
            "min_height": null,
            "min_width": null,
            "object_fit": null,
            "object_position": null,
            "order": null,
            "overflow": null,
            "overflow_x": null,
            "overflow_y": null,
            "padding": null,
            "right": null,
            "top": null,
            "visibility": null,
            "width": null
          }
        },
        "2f91df0635f34867ae341da269952474": {
          "model_module": "@jupyter-widgets/controls",
          "model_name": "DescriptionStyleModel",
          "model_module_version": "1.5.0",
          "state": {
            "_model_module": "@jupyter-widgets/controls",
            "_model_module_version": "1.5.0",
            "_model_name": "DescriptionStyleModel",
            "_view_count": null,
            "_view_module": "@jupyter-widgets/base",
            "_view_module_version": "1.2.0",
            "_view_name": "StyleView",
            "description_width": ""
          }
        },
        "0348a5be955541738fbff6add097f9e4": {
          "model_module": "@jupyter-widgets/base",
          "model_name": "LayoutModel",
          "model_module_version": "1.2.0",
          "state": {
            "_model_module": "@jupyter-widgets/base",
            "_model_module_version": "1.2.0",
            "_model_name": "LayoutModel",
            "_view_count": null,
            "_view_module": "@jupyter-widgets/base",
            "_view_module_version": "1.2.0",
            "_view_name": "LayoutView",
            "align_content": null,
            "align_items": null,
            "align_self": null,
            "border": null,
            "bottom": null,
            "display": null,
            "flex": null,
            "flex_flow": null,
            "grid_area": null,
            "grid_auto_columns": null,
            "grid_auto_flow": null,
            "grid_auto_rows": null,
            "grid_column": null,
            "grid_gap": null,
            "grid_row": null,
            "grid_template_areas": null,
            "grid_template_columns": null,
            "grid_template_rows": null,
            "height": null,
            "justify_content": null,
            "justify_items": null,
            "left": null,
            "margin": null,
            "max_height": null,
            "max_width": null,
            "min_height": null,
            "min_width": null,
            "object_fit": null,
            "object_position": null,
            "order": null,
            "overflow": null,
            "overflow_x": null,
            "overflow_y": null,
            "padding": null,
            "right": null,
            "top": null,
            "visibility": null,
            "width": null
          }
        },
        "1faf140811f140daa1538e789c5bb759": {
          "model_module": "@jupyter-widgets/controls",
          "model_name": "ProgressStyleModel",
          "model_module_version": "1.5.0",
          "state": {
            "_model_module": "@jupyter-widgets/controls",
            "_model_module_version": "1.5.0",
            "_model_name": "ProgressStyleModel",
            "_view_count": null,
            "_view_module": "@jupyter-widgets/base",
            "_view_module_version": "1.2.0",
            "_view_name": "StyleView",
            "bar_color": null,
            "description_width": ""
          }
        },
        "d5599eb6ada148daaa66e750ad61b0fd": {
          "model_module": "@jupyter-widgets/base",
          "model_name": "LayoutModel",
          "model_module_version": "1.2.0",
          "state": {
            "_model_module": "@jupyter-widgets/base",
            "_model_module_version": "1.2.0",
            "_model_name": "LayoutModel",
            "_view_count": null,
            "_view_module": "@jupyter-widgets/base",
            "_view_module_version": "1.2.0",
            "_view_name": "LayoutView",
            "align_content": null,
            "align_items": null,
            "align_self": null,
            "border": null,
            "bottom": null,
            "display": null,
            "flex": null,
            "flex_flow": null,
            "grid_area": null,
            "grid_auto_columns": null,
            "grid_auto_flow": null,
            "grid_auto_rows": null,
            "grid_column": null,
            "grid_gap": null,
            "grid_row": null,
            "grid_template_areas": null,
            "grid_template_columns": null,
            "grid_template_rows": null,
            "height": null,
            "justify_content": null,
            "justify_items": null,
            "left": null,
            "margin": null,
            "max_height": null,
            "max_width": null,
            "min_height": null,
            "min_width": null,
            "object_fit": null,
            "object_position": null,
            "order": null,
            "overflow": null,
            "overflow_x": null,
            "overflow_y": null,
            "padding": null,
            "right": null,
            "top": null,
            "visibility": null,
            "width": null
          }
        },
        "550fdabbaa0345c1bf52ea54b9bb02ec": {
          "model_module": "@jupyter-widgets/controls",
          "model_name": "DescriptionStyleModel",
          "model_module_version": "1.5.0",
          "state": {
            "_model_module": "@jupyter-widgets/controls",
            "_model_module_version": "1.5.0",
            "_model_name": "DescriptionStyleModel",
            "_view_count": null,
            "_view_module": "@jupyter-widgets/base",
            "_view_module_version": "1.2.0",
            "_view_name": "StyleView",
            "description_width": ""
          }
        }
      }
    }
  },
  "cells": [
    {
      "cell_type": "markdown",
      "metadata": {
        "id": "view-in-github",
        "colab_type": "text"
      },
      "source": [
        "<a href=\"https://colab.research.google.com/github/megumihoshino/ML-intermediate_new/blob/main/text_preprocessing.ipynb\" target=\"_parent\"><img src=\"https://colab.research.google.com/assets/colab-badge.svg\" alt=\"Open In Colab\"/></a>"
      ]
    },
    {
      "cell_type": "code",
      "execution_count": null,
      "metadata": {
        "id": "bA7FsyC5W1hf"
      },
      "outputs": [],
      "source": [
        "#NATURAL LANGUAGE PROCESSING\n",
        "\n",
        "'''\n",
        "salah satu implemnetasi dari NLP ini utk upcoming project adlh\n",
        "analisis sentimen. nah, analisis sentimen digunakan utk menentukan\n",
        "apakah sebuah kalimat positif atau negatif. utk dpt memahami konteks\n",
        "sosial juga, mengelompokkan komentar2 berdsrkan perasaan org2 thd\n",
        "topik2.\n",
        "\n",
        "\n",
        "*NATURAL LANGUAGE PROCESSING (NLP)\n",
        "--> salah 1 cab ilkom yg mempelajari cara komputer berinteraksi dg penggunaan\n",
        "bhs dlm kehidupan sehari2. NLP ber7an mengembangkan teknik2 agar kompi\n",
        "dpt memahami bahasa alami manusia.\n",
        "MACAM2 IMPLEMENTASI NLP\n",
        "- search engine\n",
        "- virtual assistant\n",
        "- automatic translating\n",
        "- sentiment analisi\n",
        "- spam detection\n",
        "- grammar checking\n",
        "- chatbot\n",
        "\n",
        "TFX (TensorFLow Extended)\n",
        "platform end-to-end utk pengembangan, pelatihan, pengujian, dan\n",
        "implementasi model ML.\n",
        "+ dokumentasi lengkap\n",
        "+ integrasi tensorflow.js utk run model NLP pd browser\n",
        "+ tensorflow lite utk run model pd perangkat mobile/embedded\n",
        "'''"
      ]
    },
    {
      "cell_type": "code",
      "source": [
        "#TEXT PREPROCESSING\n",
        "\n",
        "'''\n",
        "- text preprocessing adalah langkah awal yg krusial sblm msk ke dlm\n",
        "tahap analisis/pemodelan.\n",
        "\n",
        "**NLTK adlh library python yg digunakan utk manipulasi dan analisis\n",
        "teks NLP\n",
        "+ kemampuan melakukan tokenisasi (pemecahan teks jd token)\n",
        "+ stemming (remove akhiran kata)\n",
        "+ lematisasi (ubah kata mjd btk dasar)\n",
        "+ removal stopwords (kata2 umum yg tdk memberikan nilai tambah)\n",
        "\n",
        "**SASTRAWI adlh library python utk proses stemming dlm bhs indonesia\n",
        "berdasarkan kamus kata dasar bhs indonesia\n",
        "'''"
      ],
      "metadata": {
        "id": "8u09w47FVM4y"
      },
      "execution_count": null,
      "outputs": []
    },
    {
      "cell_type": "code",
      "source": [
        "!pip install nltk"
      ],
      "metadata": {
        "colab": {
          "base_uri": "https://localhost:8080/"
        },
        "id": "iL9ThRecXBiM",
        "outputId": "3b1c1f42-59cf-4358-a7dd-27829abbe526"
      },
      "execution_count": null,
      "outputs": [
        {
          "output_type": "stream",
          "name": "stdout",
          "text": [
            "Requirement already satisfied: nltk in /usr/local/lib/python3.10/dist-packages (3.8.1)\n",
            "Requirement already satisfied: click in /usr/local/lib/python3.10/dist-packages (from nltk) (8.1.7)\n",
            "Requirement already satisfied: joblib in /usr/local/lib/python3.10/dist-packages (from nltk) (1.4.2)\n",
            "Requirement already satisfied: regex>=2021.8.3 in /usr/local/lib/python3.10/dist-packages (from nltk) (2024.5.15)\n",
            "Requirement already satisfied: tqdm in /usr/local/lib/python3.10/dist-packages (from nltk) (4.66.5)\n"
          ]
        }
      ]
    },
    {
      "cell_type": "code",
      "source": [
        "!pip install SASTRAWI"
      ],
      "metadata": {
        "colab": {
          "base_uri": "https://localhost:8080/"
        },
        "id": "7GUCR2e_XHxz",
        "outputId": "aacf3227-4015-4645-c9a5-698da60f8b2d"
      },
      "execution_count": null,
      "outputs": [
        {
          "output_type": "stream",
          "name": "stdout",
          "text": [
            "Collecting SASTRAWI\n",
            "  Downloading Sastrawi-1.0.1-py2.py3-none-any.whl.metadata (909 bytes)\n",
            "Downloading Sastrawi-1.0.1-py2.py3-none-any.whl (209 kB)\n",
            "\u001b[?25l   \u001b[90m━━━━━━━━━━━━━━━━━━━━━━━━━━━━━━━━━━━━━━━━\u001b[0m \u001b[32m0.0/209.7 kB\u001b[0m \u001b[31m?\u001b[0m eta \u001b[36m-:--:--\u001b[0m\r\u001b[2K   \u001b[91m━━━━━━━━━━━━━━━━━━━━━━━━━━━━━━━━━━━━━━━\u001b[0m\u001b[90m╺\u001b[0m \u001b[32m204.8/209.7 kB\u001b[0m \u001b[31m6.0 MB/s\u001b[0m eta \u001b[36m0:00:01\u001b[0m\r\u001b[2K   \u001b[90m━━━━━━━━━━━━━━━━━━━━━━━━━━━━━━━━━━━━━━━━\u001b[0m \u001b[32m209.7/209.7 kB\u001b[0m \u001b[31m4.2 MB/s\u001b[0m eta \u001b[36m0:00:00\u001b[0m\n",
            "\u001b[?25hInstalling collected packages: SASTRAWI\n",
            "Successfully installed SASTRAWI-1.0.1\n"
          ]
        }
      ]
    },
    {
      "cell_type": "code",
      "source": [
        "#CASE FOLDING\n",
        "\n",
        "'''\n",
        "langkah sederhana pd pra-pemrosesan teks dg 7an utk mengubah semua\n",
        "huruf dlm dokumen teks mjd huruf kecil.\n",
        "7annya: utk membuat teks lbh seragam dan memudahkan proses analisis\n",
        "teks, terutama dlm pengenalan kata2 yg sm meskipun berbeda penulisan\n",
        "huruf besar-kecil.\n",
        "\n",
        "'''\n",
        "\n",
        "#LOWERCASE USING PYTHON\n",
        "\n",
        "karasuno = \"Tsukishima Kei was a former Middle Blocker in Karasuno HS\"\n",
        "\n",
        "text_lowercase = karasuno.lower()\n",
        "print(\"Karasuno\", karasuno)\n",
        "print(\"Text Change: \", text_lowercase)"
      ],
      "metadata": {
        "colab": {
          "base_uri": "https://localhost:8080/"
        },
        "id": "Y7HT36J1XN79",
        "outputId": "3d5063cb-2cc4-4986-af18-6497601df676"
      },
      "execution_count": null,
      "outputs": [
        {
          "output_type": "stream",
          "name": "stdout",
          "text": [
            "Karasuno Tsukishima Kei was a former Middle Blocker in Karasuno HS\n",
            "Text Change:  tsukishima kei was a former middle blocker in karasuno hs\n"
          ]
        }
      ]
    },
    {
      "cell_type": "code",
      "source": [
        "#REMOVAL SPECIAL CHARACTERS\n",
        "\n",
        "'''\n",
        "digunakan utk membersihkan teks dari karakter khusus yg tdk\n",
        "diinginkan, sprt angka, tanda baca, simbol, dll.\n",
        "\n",
        "**MENGHAPUS ANGKA\n",
        "langkah penting dlm pra-pemrosesan teks utk fokus pd informasi\n",
        "teks yg relevan tnp memperimbangkan numerik.\n",
        "utk memfokuskan analisis pd informasi teks dimana ketika numerik\n",
        "tdk relevan dg konteks analisis tsb.\n",
        "\n",
        "namun, ada kondisi dimn kita ingin mempertahankan angka2 penting,\n",
        "sprt no. rmh, atau no. telp. nah, kita bsa gunain ekspresi\n",
        "regular (regex) utk menghapus angka2 yg tidak relevan.\n",
        "'''\n"
      ],
      "metadata": {
        "id": "COSL_QnVYPQ-",
        "colab": {
          "base_uri": "https://localhost:8080/",
          "height": 87
        },
        "outputId": "c9b6a281-9095-46e5-b8f6-b730f7524705"
      },
      "execution_count": null,
      "outputs": [
        {
          "output_type": "execute_result",
          "data": {
            "text/plain": [
              "'\\ndigunakan utk membersihkan teks dari karakter khusus yg tdk\\ndiinginkan, sprt angka, tanda baca, simbol, dll.\\n\\n**MENGHAPUS ANGKA\\nlangkah penting dlm pra-pemrosesan teks utk fokus pd informasi\\nteks yg relevan tnp memperimbangkan numerik.\\nutk memfokuskan analisis pd informasi teks dimana ketika numerik\\ntdk relevan dg konteks analisis tsb.\\n\\nnamun, ada kondisi dimn kita ingin mempertahankan angka2 penting,\\nsprt no. rmh, atau no. telp. nah, kita bsa gunain ekspresi\\nregular (regex) utk menghapus angka2 yg tidak relevan.\\n'"
            ],
            "application/vnd.google.colaboratory.intrinsic+json": {
              "type": "string"
            }
          },
          "metadata": {},
          "execution_count": 4
        }
      ]
    },
    {
      "cell_type": "code",
      "source": [
        "#PRACTICE REMOVAL SPECIAL CHAR\n",
        "\n",
        "#fungsi utk remove angka dari teks\n",
        "\n",
        "def remove_number(text):\n",
        "  text_without_number = ''.join([char for char in text if not char.isdigit()])\n",
        "  return text_without_number\n",
        "\n",
        "#fungsi teks dg angka\n",
        "\n",
        "text_with_number = \"Tsukishima Kei was a former Middle Blocker No. 11\"\n",
        "\n",
        "#calling fungsi utk remove angka\n",
        "text_without_number = remove_number(text_with_number)\n",
        "\n",
        "#tampilin hasil\n",
        "print(\"Text with number: \", text_with_number)\n",
        "print(\"Text without number: \", text_without_number)"
      ],
      "metadata": {
        "colab": {
          "base_uri": "https://localhost:8080/"
        },
        "id": "tzFbF1LibMfD",
        "outputId": "46b3abda-1b07-43a8-a24b-387b4288ad18"
      },
      "execution_count": null,
      "outputs": [
        {
          "output_type": "stream",
          "name": "stdout",
          "text": [
            "Text with number:  Tsukishima Kei was a former Middle Blocker No. 11\n",
            "Text without number:  Tsukishima Kei was a former Middle Blocker No. \n"
          ]
        }
      ]
    },
    {
      "cell_type": "code",
      "source": [
        "#PRACTICE MENGHAPUS ANGKA YG TDK RELEVAN\n",
        "import re\n",
        "\n",
        "def remove_irrelevant_number(text):\n",
        "  irrelevant_number = r\"\\b(?:\\d{1,3}[-\\.\\s]?)?(?:\\d{3}[-\\.\\s]?)?\\d{4,}\\b\" #using regex to identify and remove irrelevant number\n",
        "  result = re.sub(irrelevant_number, \"\", text) #pola utk mengenali angka yg hrs dihapus, termsk nomor rmh dan nomor telp\n",
        "  return result.strip()\n",
        "\n",
        "sentence = \"Tsukishima Kei was a former Middle Blocker No. 11, his phone number is 8234567890\"\n",
        "\n",
        "#call fungsi utk hapus angka tdk relevan\n",
        "result_without_number = remove_irrelevant_number(sentence)\n",
        "\n",
        "#nampilin hasil\n",
        "print(\"Sentences with number: \", sentence)\n",
        "print(\"Sentences without irrelevant number: \", result_without_number)\n",
        "\n",
        "\n",
        "'''\n",
        "PENJELASAN TERKAIT EKSPRESI REGEX\n",
        "1. \\b: anchor word boundary\n",
        "- utk menandakan batas antara karakter word (kata) dan non-word (bkn kata)\n",
        "- utk memastikan klo kita hny mencocokan angka yg muncul sbg kata terpisah\n",
        "\n",
        "2. \\d+: pola regex yg mencocokan satu atau lebih digit angka\n",
        "\n",
        "3. \\b: anchor word boundary lg yg menutup pola, mastiin bhw angka yg dicocokan\n",
        "adlh kata tunggal yg berdiri sendiri.\n",
        "\n",
        "DGN MENGGUNAKAN ESSPRESI REGEX, KITA BISA PASTIKAN BHW HANYA ANGKA2\n",
        "YG MUNCUL SBG KATA TERPISAH YG AKAN DIHAPUS DARI TEKS. INI MEMUNGKINKAN\n",
        "KITA UTK MEMPRETAHANKAN ANGKA2 DLM KONTEKS NOMOR RUMAH ATAU NOMOR TELEPON.\n",
        "'''"
      ],
      "metadata": {
        "id": "PGzk311Mcc5p",
        "colab": {
          "base_uri": "https://localhost:8080/",
          "height": 139
        },
        "outputId": "86dce6bd-2e05-4a83-92fe-5a96966fc58b"
      },
      "execution_count": null,
      "outputs": [
        {
          "output_type": "stream",
          "name": "stdout",
          "text": [
            "Sentences with number:  Tsukishima Kei was a former Middle Blocker No. 11, his phone number is 8234567890\n",
            "Sentences without irrelevant number:  Tsukishima Kei was a former Middle Blocker No. 11, his phone number is\n"
          ]
        },
        {
          "output_type": "execute_result",
          "data": {
            "text/plain": [
              "'\\nPENJELASAN TERKAIT EKSPRESI REGEX\\n1. \\x08: anchor word boundary\\n- utk menandakan batas antara karakter word (kata) dan non-word (bkn kata)\\n- utk memastikan klo kita hny mencocokan angka yg muncul sbg kata terpisah\\n\\n2. \\\\d+: pola regex yg mencocokan satu atau lebih digit angka\\n\\n3. \\x08: anchor word boundary lg yg menutup pola, mastiin bhw angka yg dicocokan\\nadlh kata tunggal yg berdiri sendiri.\\n\\nDGN MENGGUNAKAN ESSPRESI REGEX, KITA BISA PASTIKAN BHW HANYA ANGKA2\\nYG MUNCUL SBG KATA TERPISAH YG AKAN DIHAPUS DARI TEKS. INI MEMUNGKINKAN\\nKITA UTK MEMPRETAHANKAN ANGKA2 DLM KONTEKS NOMOR RUMAH ATAU NOMOR TELEPON.\\n'"
            ],
            "application/vnd.google.colaboratory.intrinsic+json": {
              "type": "string"
            }
          },
          "metadata": {},
          "execution_count": 6
        }
      ]
    },
    {
      "cell_type": "code",
      "source": [
        "#PRACTICE REMOVE TANDA BACA\n",
        "'''\n",
        "tanda baca dlm kalimat tdk memengaruhi proses pre-pemrosesan\n",
        "teks dlm NLP. oleh krn itu, ini perlu dihapus agar tdk mengganggu\n",
        "kinerja sistem.'''\n",
        "\n",
        "import string\n",
        "\n",
        "def remove_punctuation(text):\n",
        "  punctuation_set = set(string.punctuation)\n",
        "  text_without_punctuation = ''.join(char for char in text if char not in punctuation_set)\n",
        "  return text_without_punctuation\n",
        "\n",
        "ori_text = \"Tsukishima Kei was a former Middle Blocker in Karasuno?? Hell yeah, he is so damn attractive!!\"\n",
        "\n",
        "text_changed = remove_punctuation(ori_text)\n",
        "\n",
        "print(\"Original Text : \", ori_text)\n",
        "print(\"Perubahan Text: \", text_changed)"
      ],
      "metadata": {
        "colab": {
          "base_uri": "https://localhost:8080/"
        },
        "id": "D8evjKNbY74r",
        "outputId": "a4d2f4d3-0cb9-4c98-ef2e-e2f512271914"
      },
      "execution_count": null,
      "outputs": [
        {
          "output_type": "stream",
          "name": "stdout",
          "text": [
            "Original Text :  Tsukishima Kei was a former Middle Blocker in Karasuno?? Hell yeah, he is so damn attractive!!\n",
            "Perubahan Text:  Tsukishima Kei was a former Middle Blocker in Karasuno Hell yeah he is so damn attractive\n"
          ]
        }
      ]
    },
    {
      "cell_type": "code",
      "source": [
        "#PRACTICE HAPUS WHITESPACE DLM TEKS\n",
        "'''\n",
        "merujuk pd karakter yg tdk terlihat pd layar, sprt spasi, tab, newline\n",
        "dan karakter kosong lainnya. kita bs pakai metode strip() utk hapus\n",
        "whitespace di awal dan akhir.\n",
        "'''\n",
        "text = \"   Karasuno is a public high school in Miyagi\"\n",
        "text_after_strip = text.strip()\n",
        "print(\"Text setelah strip:\", text_after_strip)"
      ],
      "metadata": {
        "colab": {
          "base_uri": "https://localhost:8080/"
        },
        "id": "i5g7eCNtetWq",
        "outputId": "59785245-4600-44cd-b669-77da75855a5c"
      },
      "execution_count": null,
      "outputs": [
        {
          "output_type": "stream",
          "name": "stdout",
          "text": [
            "Text setelah strip: Karasuno is a public high school in Miyagi\n"
          ]
        }
      ]
    },
    {
      "cell_type": "code",
      "source": [
        "#PRACTICE MENGGUNAKAN replace()\n",
        "'''\n",
        "digunakan utk menghapus seluruh whitespace dlm string.'''\n",
        "\n",
        "text_whitespace = \" Karasuno is a    public high school in Miyagi    \"\n",
        "text_without_whitespace = text_whitespace.replace(\" \", \"\")\n",
        "print(\"Text without whitespace:\", text_without_whitespace)\n"
      ],
      "metadata": {
        "colab": {
          "base_uri": "https://localhost:8080/"
        },
        "id": "HgF-VI7lfvrH",
        "outputId": "376eff34-d374-4e86-9612-11ceb3dfc379"
      },
      "execution_count": null,
      "outputs": [
        {
          "output_type": "stream",
          "name": "stdout",
          "text": [
            "Text without whitespace: KarasunoisapublichighschoolinMiyagi\n"
          ]
        }
      ]
    },
    {
      "cell_type": "code",
      "source": [
        "#PRACTICE STOPWORD REMOVAL (FILTERING)\n",
        "\n",
        "'''\n",
        "Stopword removal: penghapusan kata2 umum yg sering muncul pd teks,\n",
        "ttpi tdk memiliki nilai informatif tinggi dlm analisis teks.\n",
        "berikut adlh perbedaan antara stopwords yg disediakan oleh NLTK\n",
        "dan SASTRAWI\n",
        "'''\n"
      ],
      "metadata": {
        "id": "wF2ZsBkBgP1A"
      },
      "execution_count": null,
      "outputs": []
    },
    {
      "cell_type": "code",
      "source": [
        "#STOPWORDS NLTK PRACTICE\n",
        "\n",
        "import nltk\n",
        "from nltk.corpus import stopwords\n",
        "from nltk.tokenize import word_tokenize\n",
        "\n",
        "#mengunduh korpus stopwords bhs indonesia dari NLTK, krn blm terunduh\n",
        "nltk.download('stopwords')\n",
        "nltk.download('punkt')  #utk tokenisasi kata\n",
        "\n",
        "text = \"Kosmologi adalah ilmu yang mempelajari tentang asal usul alam semesta dan proses yang terjadi di dalamnya.\"\n",
        "\n",
        "#tokenisasi teks mjd kata-kata\n",
        "tokenisasi_kata = word_tokenize(text)\n",
        "\n",
        "#ambil daftar stopwords bahasa id dari nltk\n",
        "stopwords_indonesia = set(stopwords.words('indonesian'))\n",
        "\n",
        "#filtering kat2 dg menghapus stopwords\n",
        "kata_penting = [kata for kata in tokenisasi_kata if kata.lower() not in stopwords_indonesia]\n",
        "\n",
        "#menggabungkan kata2 penting kembali menjadi teks\n",
        "text_without_stopwords = ' '.join(kata_penting)\n",
        "\n",
        "#menampilkan hasil\n",
        "print(\"Teks asli: \", text)\n",
        "print(\"Text after filtering: \" ,text_without_stopwords)"
      ],
      "metadata": {
        "id": "uCZnAfE4hLsN",
        "colab": {
          "base_uri": "https://localhost:8080/"
        },
        "outputId": "3f8b066c-0d18-4a36-8aa8-bd9bbfab3d40"
      },
      "execution_count": null,
      "outputs": [
        {
          "output_type": "stream",
          "name": "stdout",
          "text": [
            "Teks asli:  Kosmologi adalah ilmu yang mempelajari tentang asal usul alam semesta dan proses yang terjadi di dalamnya.\n",
            "Text after filtering:  Kosmologi ilmu mempelajari usul alam semesta proses dalamnya .\n"
          ]
        },
        {
          "output_type": "stream",
          "name": "stderr",
          "text": [
            "[nltk_data] Downloading package stopwords to /root/nltk_data...\n",
            "[nltk_data]   Package stopwords is already up-to-date!\n",
            "[nltk_data] Downloading package punkt to /root/nltk_data...\n",
            "[nltk_data]   Package punkt is already up-to-date!\n"
          ]
        }
      ]
    },
    {
      "cell_type": "code",
      "source": [
        "#PRACTICE STOPWORDS SASTRAWI\n",
        "\n",
        "from Sastrawi.StopWordRemover.StopWordRemoverFactory import StopWordRemoverFactory\n",
        "from nltk.tokenize import word_tokenize\n",
        "\n",
        "#iniasialisasi objek stopwordsremover dari sastrawi\n",
        "factory = StopWordRemoverFactory()\n",
        "stopwords_sastrawi = factory.get_stop_words()\n",
        "\n",
        "text = \"Kosmologi adalah ilmu yang mempelajari tentang asal usul alam semesta dan proses yang terjadi di dalamnya.\"\n",
        "\n",
        "#tokenisasi teks mjd kata2\n",
        "tokenisasi_kata = word_tokenize(text)\n",
        "\n",
        "#filtering kata2 dg remove stopwords sastrawi\n",
        "kata_penting = [kata for kata in tokenisasi_kata if kata.lower() not in stopwords_sastrawi]\n",
        "\n",
        "#menggabungkan kata2 penting kembali mjd teks\n",
        "text_without_stopwords = ' '.join(kata_penting)\n",
        "\n",
        "#menampilkan hasil\n",
        "print(\"Original teks: \", text)\n",
        "print(\"Text after filtering: \", text_without_stopwords)"
      ],
      "metadata": {
        "colab": {
          "base_uri": "https://localhost:8080/"
        },
        "id": "iK_YnuP_ixbz",
        "outputId": "328e532e-9b15-4f3e-c335-36c6caa95847"
      },
      "execution_count": null,
      "outputs": [
        {
          "output_type": "stream",
          "name": "stdout",
          "text": [
            "Original teks:  Kosmologi adalah ilmu yang mempelajari tentang asal usul alam semesta dan proses yang terjadi di dalamnya.\n",
            "Text after filtering:  Kosmologi ilmu mempelajari asal usul alam semesta proses terjadi dalamnya .\n"
          ]
        }
      ]
    },
    {
      "cell_type": "code",
      "source": [
        "#PERBEDAAN UTAMA STOPWORDS NLTK DAN SASTRAWI\n",
        "\n",
        "'''\n",
        "1. nltk menyediakan utk berbagai bhs lain termsk bhs indonesia, sedangkan\n",
        "sastrawi dioptimalkan utk pemrosesan teks dlm bhs indonesia\n",
        "2. kustomisasi: sastrawi itu hny utk mengakses daftar stopwords dlm\n",
        "bhs indonesia sedangkan nltk itu lbh umum utk berbagai bhs.\n",
        "'''"
      ],
      "metadata": {
        "id": "EaKubvJMk6K_"
      },
      "execution_count": null,
      "outputs": []
    },
    {
      "cell_type": "code",
      "source": [
        "#TOKENIZING\n",
        "'''\n",
        "proses membagi teks mjd potongan2 lbh kecil. 7annya autk memecah teks mjd unit2\n",
        "yg lbh mudah diolah atau diinterpretasi dlm analisis teks atau pemrosesan\n",
        "bhs alami.\n",
        "\n",
        "berikut bbrp metode tokenisasi umum:\n",
        "1. tokenisasi kata (word tokenization)\n",
        "2. tokenisasi frasa (phrase tokenization)\n",
        "3. tokenisasi berdsrkan aturan (rule-based tokenization)\n",
        "4. tokenisasi berdsrkan model (model-based tokenization)\n",
        "5. tokenisasi karakter (character tokenization)\n",
        "6. tokenisasi kalimat (sentence tokenization)\n",
        "'''\n"
      ],
      "metadata": {
        "id": "08kNfg3ilfzQ"
      },
      "execution_count": null,
      "outputs": []
    },
    {
      "cell_type": "code",
      "source": [
        "#TOKENISASI KATA, KALIMAT DAN FRASA\n",
        "from nltk import word_tokenize\n",
        "from nltk import sent_tokenize\n",
        "from nltk.tokenize import PunktSentenceTokenizer\n",
        "\n",
        "\n",
        "text = \"Kosmologi adalah ilmu yang mempelajari tentang asal usul alam semesta. Teori kosmologi yang terkenal adalah teori Big Bang.\"\n",
        "\n",
        "\n",
        "tokenisasi_kata = word_tokenize(text) #tokenisasi kata\n",
        "tokenisasi_kalimat = sent_tokenize(text) #tokenisasi kalimat\n",
        "pst = PunktSentenceTokenizer() #tokenisasi frasa\n",
        "frasa = pst.tokenize(text) #tokenisasi frasa\n",
        "\n",
        "\n",
        "\n",
        "print(\"Tokenisasi kata: \\n\", tokenisasi_kata)\n",
        "print(\"Tokenisasi kalimat: \\n\", tokenisasi_kalimat)\n",
        "print(\"Tokenisasi frasa: \\n\", frasa)"
      ],
      "metadata": {
        "colab": {
          "base_uri": "https://localhost:8080/"
        },
        "id": "c8OKCZtjmjJ_",
        "outputId": "e66782e3-7267-4df5-d1bc-f8a34e72b7f0"
      },
      "execution_count": null,
      "outputs": [
        {
          "output_type": "stream",
          "name": "stdout",
          "text": [
            "Tokenisasi kata: \n",
            " ['Kosmologi', 'adalah', 'ilmu', 'yang', 'mempelajari', 'tentang', 'asal', 'usul', 'alam', 'semesta', '.', 'Teori', 'kosmologi', 'yang', 'terkenal', 'adalah', 'teori', 'Big', 'Bang', '.']\n",
            "Tokenisasi kalimat: \n",
            " ['Kosmologi adalah ilmu yang mempelajari tentang asal usul alam semesta.', 'Teori kosmologi yang terkenal adalah teori Big Bang.']\n",
            "Tokenisasi frasa: \n",
            " ['Kosmologi adalah ilmu yang mempelajari tentang asal usul alam semesta.', 'Teori kosmologi yang terkenal adalah teori Big Bang.']\n"
          ]
        }
      ]
    },
    {
      "cell_type": "code",
      "source": [
        "#TOKENISASI BERDSRKAN ATURAN\n",
        "'''\n",
        "menggunakan aturan linguistik atau aturan pemrosesan teks utk membagi\n",
        "teks ke dlm bbrp token. cthnya termsk tokeniasi khusus URL, email, dll\n",
        "'''\n",
        "import re\n",
        "text = \"This is an example sentence, with punctuation!\"\n",
        "text_with_url = \"Please visit www.google.com for more information. Contact us at info@example.com.\"\n",
        "\n",
        "#define pattern\n",
        "pattern = r\"\\w+|[.,!?;]\"\n",
        "url_pattern = r\"(?:https?://|www\\.)\\S+|(?:\\w+\\.)*\\w+@\\w+\\.\\w+\"\n",
        "\n",
        "#tokenisasi\n",
        "tokenisasi = re.findall(pattern, text)\n",
        "tokenisasi_2 = re.findall(url_pattern, text_with_url)\n",
        "\n",
        "#tampilin hasil\n",
        "print(tokenisasi)\n",
        "print(tokenisasi_2)"
      ],
      "metadata": {
        "colab": {
          "base_uri": "https://localhost:8080/"
        },
        "id": "XmyBf6tEqJz8",
        "outputId": "e60642dc-2e7d-46c0-a559-e15ef3651595"
      },
      "execution_count": 1,
      "outputs": [
        {
          "output_type": "stream",
          "name": "stdout",
          "text": [
            "['This', 'is', 'an', 'example', 'sentence', ',', 'with', 'punctuation', '!']\n",
            "['www.google.com', 'info@example.com']\n"
          ]
        }
      ]
    },
    {
      "cell_type": "code",
      "source": [
        "#TOKENISASI BERDASARKAN MODEL (MODEL BASED)\n",
        "\n",
        "#gemini code example\n",
        "!pip install transformers==4.31.0"
      ],
      "metadata": {
        "colab": {
          "base_uri": "https://localhost:8080/"
        },
        "id": "-1PG9NR_vrPv",
        "outputId": "40f6af9d-616b-4434-baae-5ef31c8046f0"
      },
      "execution_count": 3,
      "outputs": [
        {
          "output_type": "stream",
          "name": "stdout",
          "text": [
            "Collecting transformers==4.31.0\n",
            "  Downloading transformers-4.31.0-py3-none-any.whl.metadata (116 kB)\n",
            "\u001b[?25l     \u001b[90m━━━━━━━━━━━━━━━━━━━━━━━━━━━━━━━━━━━━━━━━\u001b[0m \u001b[32m0.0/116.9 kB\u001b[0m \u001b[31m?\u001b[0m eta \u001b[36m-:--:--\u001b[0m\r\u001b[2K     \u001b[90m━━━━━━━━━━━━━━━━━━━━━━━━━━━━━━━━━━━━━━━━\u001b[0m \u001b[32m116.9/116.9 kB\u001b[0m \u001b[31m6.8 MB/s\u001b[0m eta \u001b[36m0:00:00\u001b[0m\n",
            "\u001b[?25hRequirement already satisfied: filelock in /usr/local/lib/python3.10/dist-packages (from transformers==4.31.0) (3.15.4)\n",
            "Requirement already satisfied: huggingface-hub<1.0,>=0.14.1 in /usr/local/lib/python3.10/dist-packages (from transformers==4.31.0) (0.23.5)\n",
            "Requirement already satisfied: numpy>=1.17 in /usr/local/lib/python3.10/dist-packages (from transformers==4.31.0) (1.26.4)\n",
            "Requirement already satisfied: packaging>=20.0 in /usr/local/lib/python3.10/dist-packages (from transformers==4.31.0) (24.1)\n",
            "Requirement already satisfied: pyyaml>=5.1 in /usr/local/lib/python3.10/dist-packages (from transformers==4.31.0) (6.0.2)\n",
            "Requirement already satisfied: regex!=2019.12.17 in /usr/local/lib/python3.10/dist-packages (from transformers==4.31.0) (2024.5.15)\n",
            "Requirement already satisfied: requests in /usr/local/lib/python3.10/dist-packages (from transformers==4.31.0) (2.32.3)\n",
            "Collecting tokenizers!=0.11.3,<0.14,>=0.11.1 (from transformers==4.31.0)\n",
            "  Downloading tokenizers-0.13.3-cp310-cp310-manylinux_2_17_x86_64.manylinux2014_x86_64.whl.metadata (6.7 kB)\n",
            "Requirement already satisfied: safetensors>=0.3.1 in /usr/local/lib/python3.10/dist-packages (from transformers==4.31.0) (0.4.4)\n",
            "Requirement already satisfied: tqdm>=4.27 in /usr/local/lib/python3.10/dist-packages (from transformers==4.31.0) (4.66.5)\n",
            "Requirement already satisfied: fsspec>=2023.5.0 in /usr/local/lib/python3.10/dist-packages (from huggingface-hub<1.0,>=0.14.1->transformers==4.31.0) (2024.6.1)\n",
            "Requirement already satisfied: typing-extensions>=3.7.4.3 in /usr/local/lib/python3.10/dist-packages (from huggingface-hub<1.0,>=0.14.1->transformers==4.31.0) (4.12.2)\n",
            "Requirement already satisfied: charset-normalizer<4,>=2 in /usr/local/lib/python3.10/dist-packages (from requests->transformers==4.31.0) (3.3.2)\n",
            "Requirement already satisfied: idna<4,>=2.5 in /usr/local/lib/python3.10/dist-packages (from requests->transformers==4.31.0) (3.7)\n",
            "Requirement already satisfied: urllib3<3,>=1.21.1 in /usr/local/lib/python3.10/dist-packages (from requests->transformers==4.31.0) (2.0.7)\n",
            "Requirement already satisfied: certifi>=2017.4.17 in /usr/local/lib/python3.10/dist-packages (from requests->transformers==4.31.0) (2024.7.4)\n",
            "Downloading transformers-4.31.0-py3-none-any.whl (7.4 MB)\n",
            "\u001b[2K   \u001b[90m━━━━━━━━━━━━━━━━━━━━━━━━━━━━━━━━━━━━━━━━\u001b[0m \u001b[32m7.4/7.4 MB\u001b[0m \u001b[31m58.9 MB/s\u001b[0m eta \u001b[36m0:00:00\u001b[0m\n",
            "\u001b[?25hDownloading tokenizers-0.13.3-cp310-cp310-manylinux_2_17_x86_64.manylinux2014_x86_64.whl (7.8 MB)\n",
            "\u001b[2K   \u001b[90m━━━━━━━━━━━━━━━━━━━━━━━━━━━━━━━━━━━━━━━━\u001b[0m \u001b[32m7.8/7.8 MB\u001b[0m \u001b[31m60.2 MB/s\u001b[0m eta \u001b[36m0:00:00\u001b[0m\n",
            "\u001b[?25hInstalling collected packages: tokenizers, transformers\n",
            "  Attempting uninstall: tokenizers\n",
            "    Found existing installation: tokenizers 0.19.1\n",
            "    Uninstalling tokenizers-0.19.1:\n",
            "      Successfully uninstalled tokenizers-0.19.1\n",
            "  Attempting uninstall: transformers\n",
            "    Found existing installation: transformers 4.42.4\n",
            "    Uninstalling transformers-4.42.4:\n",
            "      Successfully uninstalled transformers-4.42.4\n",
            "Successfully installed tokenizers-0.13.3 transformers-4.31.0\n"
          ]
        }
      ]
    },
    {
      "cell_type": "code",
      "source": [
        "from transformers import AutoTokenizer\n",
        "\n",
        "#load a pre-trained tokenizer\n",
        "tokenizer = AutoTokenizer.from_pretrained(\"bert-base-uncased\")\n",
        "\n",
        "#tokenize a sentence\n",
        "text = \"this is an example sentence\"\n",
        "tokens = tokenizer.tokenize(text)\n",
        "\n",
        "print(tokens)"
      ],
      "metadata": {
        "colab": {
          "base_uri": "https://localhost:8080/",
          "height": 217,
          "referenced_widgets": [
            "4857e43b1d404189a68c651171477081",
            "6606259ce6404c6a8a3176f24444c4fc",
            "f422dad8b1de4209b7888f262075a671",
            "232033e9e5de42babb5cb715150dc65b",
            "b8b90ae7efe24ac597c7756a310ada15",
            "5a6b6a3fee5641539411e44577e8ff15",
            "c93eca41fade46d98fa7fc5177f7a466",
            "e9c6330c999b4dc0820450254aa02c0c",
            "954a58dd53494fcd883203cb6fc5d5f1",
            "176ee67c53204860b860a8daa6662644",
            "0e4918c2dae94f65bee4a37ad32b327f",
            "42fff7f593c64ef2b3208d493254d19e",
            "1810debf59404979b4dc6e29fc6c594e",
            "7e5bae91d8e44a5284d4f40ec7cb7de4",
            "4318f3d499f94b589a22b8673bf293eb",
            "295e07f9bfac47108e0a2e7977287097",
            "cf83a58cfb034c4583d8741cb36d8972",
            "7c07b52b92f74ba683d2b4c5e121f099",
            "44cc0279e83f4208931170b0f78606a9",
            "c3c2ff999c8c431d96584b75c01f45a6",
            "b7d2f854132a4920bdcd3f21055b5068",
            "b92f71184e57432aba3f0e5aefaedb4a",
            "2413eb2b0fbb40caadcc123ee06b4cf6",
            "eac62f84d0e94ed0968e293f1d29c470",
            "f6ec409f7d2a49d1a9e5bde12915868f",
            "8c496119c3534347acc2d6122f1180c9",
            "39215823d239478eb7db52c1979a7d7d",
            "9e1210b6c6d04bf0a4d1aa04146470af",
            "0384d612fcc6433cbca57be024ae209a",
            "bd947e3c90f649fd9c93b9a9de4febff",
            "a81ce82c19da4cebb8b5174776c1554a",
            "03d9b072063142f0ab3e09d1738d533f",
            "2b28e708c5ed4f6c9c8faa0abaa3af97",
            "76d31981ca8b4730951c948213ae668e",
            "86f85ab77d28491583a8f8b1fd79ce54",
            "b05456971f8d4a879189260b97109abd",
            "2278706794ae4c0fb81fe87e3e5e6b62",
            "f1c21c465ec04137842a5a8a0b858998",
            "f1cc0d675f4c47589f90e2ea4b43f294",
            "2f91df0635f34867ae341da269952474",
            "0348a5be955541738fbff6add097f9e4",
            "1faf140811f140daa1538e789c5bb759",
            "d5599eb6ada148daaa66e750ad61b0fd",
            "550fdabbaa0345c1bf52ea54b9bb02ec"
          ]
        },
        "id": "IA5ByIJkxpGj",
        "outputId": "509e8a4d-a870-4150-9b18-8edd914478de"
      },
      "execution_count": 5,
      "outputs": [
        {
          "output_type": "stream",
          "name": "stderr",
          "text": [
            "/usr/local/lib/python3.10/dist-packages/huggingface_hub/file_download.py:1132: FutureWarning: `resume_download` is deprecated and will be removed in version 1.0.0. Downloads always resume when possible. If you want to force a new download, use `force_download=True`.\n",
            "  warnings.warn(\n"
          ]
        },
        {
          "output_type": "display_data",
          "data": {
            "text/plain": [
              "tokenizer_config.json:   0%|          | 0.00/48.0 [00:00<?, ?B/s]"
            ],
            "application/vnd.jupyter.widget-view+json": {
              "version_major": 2,
              "version_minor": 0,
              "model_id": "4857e43b1d404189a68c651171477081"
            }
          },
          "metadata": {}
        },
        {
          "output_type": "display_data",
          "data": {
            "text/plain": [
              "config.json:   0%|          | 0.00/570 [00:00<?, ?B/s]"
            ],
            "application/vnd.jupyter.widget-view+json": {
              "version_major": 2,
              "version_minor": 0,
              "model_id": "42fff7f593c64ef2b3208d493254d19e"
            }
          },
          "metadata": {}
        },
        {
          "output_type": "display_data",
          "data": {
            "text/plain": [
              "vocab.txt:   0%|          | 0.00/232k [00:00<?, ?B/s]"
            ],
            "application/vnd.jupyter.widget-view+json": {
              "version_major": 2,
              "version_minor": 0,
              "model_id": "2413eb2b0fbb40caadcc123ee06b4cf6"
            }
          },
          "metadata": {}
        },
        {
          "output_type": "display_data",
          "data": {
            "text/plain": [
              "tokenizer.json:   0%|          | 0.00/466k [00:00<?, ?B/s]"
            ],
            "application/vnd.jupyter.widget-view+json": {
              "version_major": 2,
              "version_minor": 0,
              "model_id": "76d31981ca8b4730951c948213ae668e"
            }
          },
          "metadata": {}
        },
        {
          "output_type": "stream",
          "name": "stdout",
          "text": [
            "['this', 'is', 'an', 'example', 'sentence']\n"
          ]
        }
      ]
    },
    {
      "cell_type": "code",
      "source": [
        "#an example from dicoding\n",
        "\n",
        "text2 = \"this is an example sentence\"\n",
        "tokens2 = text2.split()\n",
        "print(tokens2)"
      ],
      "metadata": {
        "colab": {
          "base_uri": "https://localhost:8080/"
        },
        "id": "ee3QmUxVyfu7",
        "outputId": "1d67650e-28ee-4cf2-e4ba-f17e291f3662"
      },
      "execution_count": 6,
      "outputs": [
        {
          "output_type": "stream",
          "name": "stdout",
          "text": [
            "['this', 'is', 'an', 'example', 'sentence']\n"
          ]
        }
      ]
    },
    {
      "cell_type": "code",
      "source": [
        "#STEMMINGGGGGGGGGGGGGGGGGGGGGGGGGGGG\n",
        "'''\n",
        "proses dlm pemrosesan teks yg digunakan utk menyederhanakan KATA2\n",
        "KE DLM BTK KATA DASARNYA dgn cara \"menghilangkan awalan atau akhiran\"\n",
        "kata.\n",
        "\n",
        "tujuannya agar kata2 berbeda, ttp berasal dari satu kata dasar, dpt\n",
        "direduksi mjd btk yg lbh seragam.\n",
        "\n",
        "note: hasil stemming TDK SLL SAMA DG AKAR KATA SBNRNYA DLM BHASA. stemming\n",
        "hny berfokus pd pembuangan bag awal ato akhir kata, utk menyederhanakan\n",
        "kata2, tnp memperhatikan makna sbnrnya kt tsb.\n",
        "\n",
        "ada bbrp algoritma stemming yg biasa digunakan, yaitu Porter, Snowball,\n",
        "dan Lancaster.\n",
        "'''"
      ],
      "metadata": {
        "id": "R33U_IuHy4Zu"
      },
      "execution_count": null,
      "outputs": []
    },
    {
      "cell_type": "code",
      "source": [
        "import nltk\n",
        "from nltk.stem import PorterStemmer\n",
        "\n",
        "#initiate stemmer\n",
        "stemmer = PorterStemmer()\n",
        "\n",
        "#kata2 asli\n",
        "words = [\"absquatulate\",\n",
        "         \"borborygmus\",\n",
        "         \"defenestration\",\n",
        "         \"euphonious\",\n",
        "         \"gobbledygook\",\n",
        "         \"logorrhea\",\n",
        "         \"mellifluous\",\n",
        "         \"obfuscate\",\n",
        "         \"serendipity\",\n",
        "         \"tintinnabulation\"]\n",
        "\n",
        "#stemming in every words\n",
        "\n",
        "for word in words:\n",
        "  stemmed_word = stemmer.stem(word)\n",
        "  print(f\"kata asli: {word}, kata setelah stemming: {stemmed_word}\")\n",
        "\n",
        "\n",
        "\n",
        "\n",
        ""
      ],
      "metadata": {
        "colab": {
          "base_uri": "https://localhost:8080/"
        },
        "id": "ltej5yV40nmu",
        "outputId": "f0fa8d16-63f9-4cda-8419-ae924394b2cd"
      },
      "execution_count": 8,
      "outputs": [
        {
          "output_type": "stream",
          "name": "stdout",
          "text": [
            "kata asli: absquatulate, kata setelah stemming: absquatul\n",
            "kata asli: borborygmus, kata setelah stemming: borborygmu\n",
            "kata asli: defenestration, kata setelah stemming: defenestr\n",
            "kata asli: euphonious, kata setelah stemming: euphoni\n",
            "kata asli: gobbledygook, kata setelah stemming: gobbledygook\n",
            "kata asli: logorrhea, kata setelah stemming: logorrhea\n",
            "kata asli: mellifluous, kata setelah stemming: melliflu\n",
            "kata asli: obfuscate, kata setelah stemming: obfusc\n",
            "kata asli: serendipity, kata setelah stemming: serendip\n",
            "kata asli: tintinnabulation, kata setelah stemming: tintinnabul\n"
          ]
        }
      ]
    },
    {
      "cell_type": "code",
      "source": [
        "#LEMMATIZATIONNNNN\n",
        "'''\n",
        "teknik dlm pemrosesan teks utk mengubah kata2 ke btk dasar mereka\n",
        "yg disebut lemma (atau lema). 7an utk menyatukan kata2 dgn akar sama\n",
        "agar dpt direpresentasikan makna kata tsb scr tepat.\n",
        "\n",
        "proses lemmatization melibatkan penentuan jns kata (part of speech, POS)\n",
        "utk memastikan kata dikembalikan ke lema yg benar. misal, kata kerja (verb)\n",
        "memiliki lema yg berbeda dg kt benda (noun).\n",
        "\n",
        "perbedaan utama lemmatization dg stemming adlh lemmatization lbh CERMAT\n",
        "krn mempertimbangkan aturan morfologi bhsa.'''\n",
        "\n"
      ],
      "metadata": {
        "id": "qtKhxw-J3b_C"
      },
      "execution_count": null,
      "outputs": []
    },
    {
      "cell_type": "code",
      "source": [
        "#LEMMATIZATION PRACTICE GOES BRRRRRRR\n",
        "\n",
        "import nltk\n",
        "from nltk.stem import WordNetLemmatizer\n",
        "\n",
        "#download wordnet\n",
        "nltk.download('wordnet')\n",
        "\n",
        "#inisialisasi lemmatizer\n",
        "lemmatizer = WordNetLemmatizer()\n",
        "\n",
        "#kata2 asli\n",
        "words = [\"absquatulate\",\n",
        "         \"borborygmus\",\n",
        "         \"defenestration\",\n",
        "         \"euphonious\",\n",
        "         \"gobbledygook\",\n",
        "         \"logorrhea\",\n",
        "         \"mellifluous\",\n",
        "         \"obfuscate\",\n",
        "         \"serendipity\",\n",
        "         \"tintinnabulation\"]\n",
        "\n",
        "#lematisasi pd setiap kata\n",
        "for word in words:\n",
        "  lemma_word = lemmatizer.lemmatize(word.lower()) #dikonversi ke huruf kecil utk memastikan pemrosesan yg konsisten\n",
        "  print(f\"kata asli: {word}, kata setelah lematisasi: {lemma_word}\")"
      ],
      "metadata": {
        "colab": {
          "base_uri": "https://localhost:8080/"
        },
        "id": "UR-zCPKC4ZIV",
        "outputId": "411d3d55-6618-4ef6-f952-a23fd9bb4a1f"
      },
      "execution_count": 9,
      "outputs": [
        {
          "output_type": "stream",
          "name": "stderr",
          "text": [
            "[nltk_data] Downloading package wordnet to /root/nltk_data...\n"
          ]
        },
        {
          "output_type": "stream",
          "name": "stdout",
          "text": [
            "kata asli: absquatulate, kata setelah lematisasi: absquatulate\n",
            "kata asli: borborygmus, kata setelah lematisasi: borborygmus\n",
            "kata asli: defenestration, kata setelah lematisasi: defenestration\n",
            "kata asli: euphonious, kata setelah lematisasi: euphonious\n",
            "kata asli: gobbledygook, kata setelah lematisasi: gobbledygook\n",
            "kata asli: logorrhea, kata setelah lematisasi: logorrhea\n",
            "kata asli: mellifluous, kata setelah lematisasi: mellifluous\n",
            "kata asli: obfuscate, kata setelah lematisasi: obfuscate\n",
            "kata asli: serendipity, kata setelah lematisasi: serendipity\n",
            "kata asli: tintinnabulation, kata setelah lematisasi: tintinnabulation\n"
          ]
        }
      ]
    }
  ]
}