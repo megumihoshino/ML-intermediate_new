{
  "nbformat": 4,
  "nbformat_minor": 0,
  "metadata": {
    "colab": {
      "provenance": []
    },
    "kernelspec": {
      "name": "python3",
      "display_name": "Python 3"
    },
    "language_info": {
      "name": "python"
    }
  },
  "cells": [
    {
      "cell_type": "code",
      "execution_count": 5,
      "metadata": {
        "colab": {
          "base_uri": "https://localhost:8080/"
        },
        "id": "lGmR04ZrEWlW",
        "outputId": "5859c9ed-fb4a-4665-b4d9-73b693367d00"
      },
      "outputs": [
        {
          "output_type": "stream",
          "name": "stdout",
          "text": [
            "Requirement already satisfied: google-play-scraper in /usr/local/lib/python3.10/dist-packages (1.2.7)\n"
          ]
        }
      ],
      "source": [
        "#INSTALL GOOGLE PLAY SCRAPER\n",
        "!pip install google-play-scraper"
      ]
    },
    {
      "cell_type": "code",
      "source": [
        "from google_play_scraper import app, reviews, Sort, reviews_all\n",
        "import pandas as pd\n",
        "\n",
        "#scraping aplikasi Tokopedia dari google play store id\n",
        "\n",
        "app_id = 'com.tokopedia.tkpd'\n",
        "\n",
        "#scrap all reviews\n",
        "reviews = reviews_all(\n",
        "    app_id,\n",
        "    sleep_milliseconds = 100,\n",
        "    lang = 'id',\n",
        "    country = 'id',\n",
        "    sort = Sort.MOST_RELEVANT,\n",
        "    count = 15000,\n",
        ")\n",
        "\n",
        "#convert ke dataframe\n",
        "df = pd.DataFrame(reviews)\n",
        "\n",
        "df = df.head(15000)\n",
        "\n",
        "df.to_csv('Toped_reviews.csv', index = False)\n",
        "\n",
        "print(f\"Saved {len(df)} reviews to Toped_reviews.csv\")"
      ],
      "metadata": {
        "colab": {
          "base_uri": "https://localhost:8080/"
        },
        "id": "Mn3EC3BsEttx",
        "outputId": "999b4fef-3305-4eb8-99d6-00b230501335"
      },
      "execution_count": 6,
      "outputs": [
        {
          "output_type": "stream",
          "name": "stdout",
          "text": [
            "Saved 15000 reviews to Toped_reviews.csv\n"
          ]
        }
      ]
    }
  ]
}