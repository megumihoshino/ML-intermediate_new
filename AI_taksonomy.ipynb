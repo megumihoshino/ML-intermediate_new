{
  "nbformat": 4,
  "nbformat_minor": 0,
  "metadata": {
    "colab": {
      "provenance": [],
      "authorship_tag": "ABX9TyM1oQRwndZd7tGqjIZUrrgA",
      "include_colab_link": true
    },
    "kernelspec": {
      "name": "python3",
      "display_name": "Python 3"
    },
    "language_info": {
      "name": "python"
    }
  },
  "cells": [
    {
      "cell_type": "markdown",
      "metadata": {
        "id": "view-in-github",
        "colab_type": "text"
      },
      "source": [
        "<a href=\"https://colab.research.google.com/github/megumihoshino/ML-intermediate_new/blob/main/AI_taksonomy.ipynb\" target=\"_parent\"><img src=\"https://colab.research.google.com/assets/colab-badge.svg\" alt=\"Open In Colab\"/></a>"
      ]
    },
    {
      "cell_type": "code",
      "execution_count": null,
      "metadata": {
        "id": "9L3YIqNOCe_u"
      },
      "outputs": [],
      "source": [
        "#TAKSONOMI AI\n",
        "'''\n",
        "berikut adlh taksonomi AI:\n",
        "1. AI\n",
        "  konsep yg mendasari seluruh bidang kecerdasan buatan\n",
        "2. ML\n",
        "  cabang dari AI, ketika kompi dpt bljr dari data tnp perlu diprogram\n",
        "  scr eksplisit\n",
        "3. Neural Network (NN)\n",
        "  mathematical model yg terinspirasi dari struktur jaringan syaraf\n",
        "  manusia. NN digunakan utk memproses informasi dan bljr dr data.\n",
        "  NN bekerja meniru cara otak manusia bekerja dg menggunakan unit2\n",
        "  pemrosesan sederhana yg disebut neuron.\n",
        "4. Deep Learning (DL)\n",
        "  sub-bidang ML yg menggunakan NN, menerapkan byk layer atau deep neural\n",
        "  network (DNN)\n",
        "5. Gen AI\n",
        "  cabang dari AI yg fokusnya pd penciptaan konten baru dan original.\n",
        "  in other words, tukang generate prompt yg bs hasilin gbr, tulisan,\n",
        "  ataupun konten yg kita inginkan.\n",
        "'''\n"
      ]
    },
    {
      "cell_type": "code",
      "source": [
        "#KONSEP DASAR NEURAL NETWORK\n",
        "'''\n"
      ],
      "metadata": {
        "id": "qik46ihI_uL5"
      },
      "execution_count": null,
      "outputs": []
    }
  ]
}