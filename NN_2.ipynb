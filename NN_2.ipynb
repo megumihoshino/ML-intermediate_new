{
  "nbformat": 4,
  "nbformat_minor": 0,
  "metadata": {
    "colab": {
      "provenance": [],
      "authorship_tag": "ABX9TyM5i9beqR/tKd3t0aOhyUYx",
      "include_colab_link": true
    },
    "kernelspec": {
      "name": "python3",
      "display_name": "Python 3"
    },
    "language_info": {
      "name": "python"
    }
  },
  "cells": [
    {
      "cell_type": "markdown",
      "metadata": {
        "id": "view-in-github",
        "colab_type": "text"
      },
      "source": [
        "<a href=\"https://colab.research.google.com/github/megumihoshino/ML-intermediate_new/blob/main/NN_2.ipynb\" target=\"_parent\"><img src=\"https://colab.research.google.com/assets/colab-badge.svg\" alt=\"Open In Colab\"/></a>"
      ]
    },
    {
      "cell_type": "code",
      "execution_count": null,
      "metadata": {
        "id": "YBSFVd8WXCOd",
        "colab": {
          "base_uri": "https://localhost:8080/"
        },
        "outputId": "e747d08a-bc8b-4e0f-d5af-382bcaf8ee1f"
      },
      "outputs": [
        {
          "output_type": "stream",
          "name": "stderr",
          "text": [
            "/usr/local/lib/python3.10/dist-packages/keras/src/layers/core/dense.py:87: UserWarning: Do not pass an `input_shape`/`input_dim` argument to a layer. When using Sequential models, prefer using an `Input(shape)` object as the first layer in the model instead.\n",
            "  super().__init__(activity_regularizer=activity_regularizer, **kwargs)\n"
          ]
        }
      ],
      "source": [
        "#MODEL SEKUENSIAL DG BBRP LAYER\n",
        "import tensorflow as tf\n",
        "from keras.models import Sequential\n",
        "from keras.layers import Dense\n",
        "model = Sequential([\n",
        "   tf.keras.layers.Dense(units = 20, input_shape = [1]),\n",
        "   tf.keras.layers.Dense(units = 10),\n",
        "   tf.keras.layers.Dense(units = 5),\n",
        "   tf.keras.layers.Dense(units = 1)\n",
        "])"
      ]
    },
    {
      "cell_type": "code",
      "source": [
        "#MEMBUAT MODEL UTK KLASIFIKASI DUA KELAS\n",
        "\n",
        "import pandas as pd\n",
        "df = pd.read_csv('/content/sample_data/citrus.csv')\n",
        "df.head()"
      ],
      "metadata": {
        "id": "F6mTh1QWqzzu",
        "colab": {
          "base_uri": "https://localhost:8080/",
          "height": 206
        },
        "outputId": "44a87479-e056-4a0d-b8e4-cec65f3e180c"
      },
      "execution_count": null,
      "outputs": [
        {
          "output_type": "execute_result",
          "data": {
            "text/plain": [
              "     name  diameter  weight  red  green  blue\n",
              "0  orange      2.96   86.76  172     85     2\n",
              "1  orange      3.91   88.05  166     78     3\n",
              "2  orange      4.42   95.17  156     81     2\n",
              "3  orange      4.47   95.60  163     81     4\n",
              "4  orange      4.48   95.76  161     72     9"
            ],
            "text/html": [
              "\n",
              "  <div id=\"df-0e9e44e9-8918-4c15-8225-dc9de590d05e\" class=\"colab-df-container\">\n",
              "    <div>\n",
              "<style scoped>\n",
              "    .dataframe tbody tr th:only-of-type {\n",
              "        vertical-align: middle;\n",
              "    }\n",
              "\n",
              "    .dataframe tbody tr th {\n",
              "        vertical-align: top;\n",
              "    }\n",
              "\n",
              "    .dataframe thead th {\n",
              "        text-align: right;\n",
              "    }\n",
              "</style>\n",
              "<table border=\"1\" class=\"dataframe\">\n",
              "  <thead>\n",
              "    <tr style=\"text-align: right;\">\n",
              "      <th></th>\n",
              "      <th>name</th>\n",
              "      <th>diameter</th>\n",
              "      <th>weight</th>\n",
              "      <th>red</th>\n",
              "      <th>green</th>\n",
              "      <th>blue</th>\n",
              "    </tr>\n",
              "  </thead>\n",
              "  <tbody>\n",
              "    <tr>\n",
              "      <th>0</th>\n",
              "      <td>orange</td>\n",
              "      <td>2.96</td>\n",
              "      <td>86.76</td>\n",
              "      <td>172</td>\n",
              "      <td>85</td>\n",
              "      <td>2</td>\n",
              "    </tr>\n",
              "    <tr>\n",
              "      <th>1</th>\n",
              "      <td>orange</td>\n",
              "      <td>3.91</td>\n",
              "      <td>88.05</td>\n",
              "      <td>166</td>\n",
              "      <td>78</td>\n",
              "      <td>3</td>\n",
              "    </tr>\n",
              "    <tr>\n",
              "      <th>2</th>\n",
              "      <td>orange</td>\n",
              "      <td>4.42</td>\n",
              "      <td>95.17</td>\n",
              "      <td>156</td>\n",
              "      <td>81</td>\n",
              "      <td>2</td>\n",
              "    </tr>\n",
              "    <tr>\n",
              "      <th>3</th>\n",
              "      <td>orange</td>\n",
              "      <td>4.47</td>\n",
              "      <td>95.60</td>\n",
              "      <td>163</td>\n",
              "      <td>81</td>\n",
              "      <td>4</td>\n",
              "    </tr>\n",
              "    <tr>\n",
              "      <th>4</th>\n",
              "      <td>orange</td>\n",
              "      <td>4.48</td>\n",
              "      <td>95.76</td>\n",
              "      <td>161</td>\n",
              "      <td>72</td>\n",
              "      <td>9</td>\n",
              "    </tr>\n",
              "  </tbody>\n",
              "</table>\n",
              "</div>\n",
              "    <div class=\"colab-df-buttons\">\n",
              "\n",
              "  <div class=\"colab-df-container\">\n",
              "    <button class=\"colab-df-convert\" onclick=\"convertToInteractive('df-0e9e44e9-8918-4c15-8225-dc9de590d05e')\"\n",
              "            title=\"Convert this dataframe to an interactive table.\"\n",
              "            style=\"display:none;\">\n",
              "\n",
              "  <svg xmlns=\"http://www.w3.org/2000/svg\" height=\"24px\" viewBox=\"0 -960 960 960\">\n",
              "    <path d=\"M120-120v-720h720v720H120Zm60-500h600v-160H180v160Zm220 220h160v-160H400v160Zm0 220h160v-160H400v160ZM180-400h160v-160H180v160Zm440 0h160v-160H620v160ZM180-180h160v-160H180v160Zm440 0h160v-160H620v160Z\"/>\n",
              "  </svg>\n",
              "    </button>\n",
              "\n",
              "  <style>\n",
              "    .colab-df-container {\n",
              "      display:flex;\n",
              "      gap: 12px;\n",
              "    }\n",
              "\n",
              "    .colab-df-convert {\n",
              "      background-color: #E8F0FE;\n",
              "      border: none;\n",
              "      border-radius: 50%;\n",
              "      cursor: pointer;\n",
              "      display: none;\n",
              "      fill: #1967D2;\n",
              "      height: 32px;\n",
              "      padding: 0 0 0 0;\n",
              "      width: 32px;\n",
              "    }\n",
              "\n",
              "    .colab-df-convert:hover {\n",
              "      background-color: #E2EBFA;\n",
              "      box-shadow: 0px 1px 2px rgba(60, 64, 67, 0.3), 0px 1px 3px 1px rgba(60, 64, 67, 0.15);\n",
              "      fill: #174EA6;\n",
              "    }\n",
              "\n",
              "    .colab-df-buttons div {\n",
              "      margin-bottom: 4px;\n",
              "    }\n",
              "\n",
              "    [theme=dark] .colab-df-convert {\n",
              "      background-color: #3B4455;\n",
              "      fill: #D2E3FC;\n",
              "    }\n",
              "\n",
              "    [theme=dark] .colab-df-convert:hover {\n",
              "      background-color: #434B5C;\n",
              "      box-shadow: 0px 1px 3px 1px rgba(0, 0, 0, 0.15);\n",
              "      filter: drop-shadow(0px 1px 2px rgba(0, 0, 0, 0.3));\n",
              "      fill: #FFFFFF;\n",
              "    }\n",
              "  </style>\n",
              "\n",
              "    <script>\n",
              "      const buttonEl =\n",
              "        document.querySelector('#df-0e9e44e9-8918-4c15-8225-dc9de590d05e button.colab-df-convert');\n",
              "      buttonEl.style.display =\n",
              "        google.colab.kernel.accessAllowed ? 'block' : 'none';\n",
              "\n",
              "      async function convertToInteractive(key) {\n",
              "        const element = document.querySelector('#df-0e9e44e9-8918-4c15-8225-dc9de590d05e');\n",
              "        const dataTable =\n",
              "          await google.colab.kernel.invokeFunction('convertToInteractive',\n",
              "                                                    [key], {});\n",
              "        if (!dataTable) return;\n",
              "\n",
              "        const docLinkHtml = 'Like what you see? Visit the ' +\n",
              "          '<a target=\"_blank\" href=https://colab.research.google.com/notebooks/data_table.ipynb>data table notebook</a>'\n",
              "          + ' to learn more about interactive tables.';\n",
              "        element.innerHTML = '';\n",
              "        dataTable['output_type'] = 'display_data';\n",
              "        await google.colab.output.renderOutput(dataTable, element);\n",
              "        const docLink = document.createElement('div');\n",
              "        docLink.innerHTML = docLinkHtml;\n",
              "        element.appendChild(docLink);\n",
              "      }\n",
              "    </script>\n",
              "  </div>\n",
              "\n",
              "\n",
              "<div id=\"df-c5ba2954-e5e1-4e39-a85a-c559163fcac4\">\n",
              "  <button class=\"colab-df-quickchart\" onclick=\"quickchart('df-c5ba2954-e5e1-4e39-a85a-c559163fcac4')\"\n",
              "            title=\"Suggest charts\"\n",
              "            style=\"display:none;\">\n",
              "\n",
              "<svg xmlns=\"http://www.w3.org/2000/svg\" height=\"24px\"viewBox=\"0 0 24 24\"\n",
              "     width=\"24px\">\n",
              "    <g>\n",
              "        <path d=\"M19 3H5c-1.1 0-2 .9-2 2v14c0 1.1.9 2 2 2h14c1.1 0 2-.9 2-2V5c0-1.1-.9-2-2-2zM9 17H7v-7h2v7zm4 0h-2V7h2v10zm4 0h-2v-4h2v4z\"/>\n",
              "    </g>\n",
              "</svg>\n",
              "  </button>\n",
              "\n",
              "<style>\n",
              "  .colab-df-quickchart {\n",
              "      --bg-color: #E8F0FE;\n",
              "      --fill-color: #1967D2;\n",
              "      --hover-bg-color: #E2EBFA;\n",
              "      --hover-fill-color: #174EA6;\n",
              "      --disabled-fill-color: #AAA;\n",
              "      --disabled-bg-color: #DDD;\n",
              "  }\n",
              "\n",
              "  [theme=dark] .colab-df-quickchart {\n",
              "      --bg-color: #3B4455;\n",
              "      --fill-color: #D2E3FC;\n",
              "      --hover-bg-color: #434B5C;\n",
              "      --hover-fill-color: #FFFFFF;\n",
              "      --disabled-bg-color: #3B4455;\n",
              "      --disabled-fill-color: #666;\n",
              "  }\n",
              "\n",
              "  .colab-df-quickchart {\n",
              "    background-color: var(--bg-color);\n",
              "    border: none;\n",
              "    border-radius: 50%;\n",
              "    cursor: pointer;\n",
              "    display: none;\n",
              "    fill: var(--fill-color);\n",
              "    height: 32px;\n",
              "    padding: 0;\n",
              "    width: 32px;\n",
              "  }\n",
              "\n",
              "  .colab-df-quickchart:hover {\n",
              "    background-color: var(--hover-bg-color);\n",
              "    box-shadow: 0 1px 2px rgba(60, 64, 67, 0.3), 0 1px 3px 1px rgba(60, 64, 67, 0.15);\n",
              "    fill: var(--button-hover-fill-color);\n",
              "  }\n",
              "\n",
              "  .colab-df-quickchart-complete:disabled,\n",
              "  .colab-df-quickchart-complete:disabled:hover {\n",
              "    background-color: var(--disabled-bg-color);\n",
              "    fill: var(--disabled-fill-color);\n",
              "    box-shadow: none;\n",
              "  }\n",
              "\n",
              "  .colab-df-spinner {\n",
              "    border: 2px solid var(--fill-color);\n",
              "    border-color: transparent;\n",
              "    border-bottom-color: var(--fill-color);\n",
              "    animation:\n",
              "      spin 1s steps(1) infinite;\n",
              "  }\n",
              "\n",
              "  @keyframes spin {\n",
              "    0% {\n",
              "      border-color: transparent;\n",
              "      border-bottom-color: var(--fill-color);\n",
              "      border-left-color: var(--fill-color);\n",
              "    }\n",
              "    20% {\n",
              "      border-color: transparent;\n",
              "      border-left-color: var(--fill-color);\n",
              "      border-top-color: var(--fill-color);\n",
              "    }\n",
              "    30% {\n",
              "      border-color: transparent;\n",
              "      border-left-color: var(--fill-color);\n",
              "      border-top-color: var(--fill-color);\n",
              "      border-right-color: var(--fill-color);\n",
              "    }\n",
              "    40% {\n",
              "      border-color: transparent;\n",
              "      border-right-color: var(--fill-color);\n",
              "      border-top-color: var(--fill-color);\n",
              "    }\n",
              "    60% {\n",
              "      border-color: transparent;\n",
              "      border-right-color: var(--fill-color);\n",
              "    }\n",
              "    80% {\n",
              "      border-color: transparent;\n",
              "      border-right-color: var(--fill-color);\n",
              "      border-bottom-color: var(--fill-color);\n",
              "    }\n",
              "    90% {\n",
              "      border-color: transparent;\n",
              "      border-bottom-color: var(--fill-color);\n",
              "    }\n",
              "  }\n",
              "</style>\n",
              "\n",
              "  <script>\n",
              "    async function quickchart(key) {\n",
              "      const quickchartButtonEl =\n",
              "        document.querySelector('#' + key + ' button');\n",
              "      quickchartButtonEl.disabled = true;  // To prevent multiple clicks.\n",
              "      quickchartButtonEl.classList.add('colab-df-spinner');\n",
              "      try {\n",
              "        const charts = await google.colab.kernel.invokeFunction(\n",
              "            'suggestCharts', [key], {});\n",
              "      } catch (error) {\n",
              "        console.error('Error during call to suggestCharts:', error);\n",
              "      }\n",
              "      quickchartButtonEl.classList.remove('colab-df-spinner');\n",
              "      quickchartButtonEl.classList.add('colab-df-quickchart-complete');\n",
              "    }\n",
              "    (() => {\n",
              "      let quickchartButtonEl =\n",
              "        document.querySelector('#df-c5ba2954-e5e1-4e39-a85a-c559163fcac4 button');\n",
              "      quickchartButtonEl.style.display =\n",
              "        google.colab.kernel.accessAllowed ? 'block' : 'none';\n",
              "    })();\n",
              "  </script>\n",
              "</div>\n",
              "\n",
              "    </div>\n",
              "  </div>\n"
            ],
            "application/vnd.google.colaboratory.intrinsic+json": {
              "type": "dataframe",
              "variable_name": "df",
              "summary": "{\n  \"name\": \"df\",\n  \"rows\": 10000,\n  \"fields\": [\n    {\n      \"column\": \"name\",\n      \"properties\": {\n        \"dtype\": \"category\",\n        \"num_unique_values\": 2,\n        \"samples\": [\n          \"grapefruit\",\n          \"orange\"\n        ],\n        \"semantic_type\": \"\",\n        \"description\": \"\"\n      }\n    },\n    {\n      \"column\": \"diameter\",\n      \"properties\": {\n        \"dtype\": \"number\",\n        \"std\": 1.9478436590925432,\n        \"min\": 2.96,\n        \"max\": 16.45,\n        \"num_unique_values\": 940,\n        \"samples\": [\n          11.37,\n          5.8\n        ],\n        \"semantic_type\": \"\",\n        \"description\": \"\"\n      }\n    },\n    {\n      \"column\": \"weight\",\n      \"properties\": {\n        \"dtype\": \"number\",\n        \"std\": 29.21211926177066,\n        \"min\": 86.76,\n        \"max\": 261.51,\n        \"num_unique_values\": 6627,\n        \"samples\": [\n          192.1,\n          190.16\n        ],\n        \"semantic_type\": \"\",\n        \"description\": \"\"\n      }\n    },\n    {\n      \"column\": \"red\",\n      \"properties\": {\n        \"dtype\": \"number\",\n        \"std\": 10,\n        \"min\": 115,\n        \"max\": 192,\n        \"num_unique_values\": 75,\n        \"samples\": [\n          161,\n          130\n        ],\n        \"semantic_type\": \"\",\n        \"description\": \"\"\n      }\n    },\n    {\n      \"column\": \"green\",\n      \"properties\": {\n        \"dtype\": \"number\",\n        \"std\": 11,\n        \"min\": 31,\n        \"max\": 116,\n        \"num_unique_values\": 80,\n        \"samples\": [\n          91,\n          85\n        ],\n        \"semantic_type\": \"\",\n        \"description\": \"\"\n      }\n    },\n    {\n      \"column\": \"blue\",\n      \"properties\": {\n        \"dtype\": \"number\",\n        \"std\": 9,\n        \"min\": 2,\n        \"max\": 56,\n        \"num_unique_values\": 48,\n        \"samples\": [\n          26,\n          39\n        ],\n        \"semantic_type\": \"\",\n        \"description\": \"\"\n      }\n    }\n  ]\n}"
            }
          },
          "metadata": {},
          "execution_count": 2
        }
      ]
    },
    {
      "cell_type": "code",
      "source": [
        "df.info()"
      ],
      "metadata": {
        "colab": {
          "base_uri": "https://localhost:8080/"
        },
        "id": "-19V2Kghfmh_",
        "outputId": "2648c5b3-7b00-4efd-9da4-daa4225df774"
      },
      "execution_count": null,
      "outputs": [
        {
          "output_type": "stream",
          "name": "stdout",
          "text": [
            "<class 'pandas.core.frame.DataFrame'>\n",
            "RangeIndex: 10000 entries, 0 to 9999\n",
            "Data columns (total 6 columns):\n",
            " #   Column    Non-Null Count  Dtype  \n",
            "---  ------    --------------  -----  \n",
            " 0   name      10000 non-null  object \n",
            " 1   diameter  10000 non-null  float64\n",
            " 2   weight    10000 non-null  float64\n",
            " 3   red       10000 non-null  int64  \n",
            " 4   green     10000 non-null  int64  \n",
            " 5   blue      10000 non-null  int64  \n",
            "dtypes: float64(2), int64(3), object(1)\n",
            "memory usage: 468.9+ KB\n"
          ]
        }
      ]
    },
    {
      "cell_type": "code",
      "source": [
        "df.name[df.name == 'grapefruit'] = 0\n",
        "df.name[df.name == 'orange']=1\n",
        "#mengubah nilai pada kolom name mjd numerik"
      ],
      "metadata": {
        "colab": {
          "base_uri": "https://localhost:8080/"
        },
        "id": "r5F9NBB4HFq-",
        "outputId": "8ccbf673-8721-4a99-ccd5-2090cbf4fa21"
      },
      "execution_count": null,
      "outputs": [
        {
          "output_type": "stream",
          "name": "stderr",
          "text": [
            "<ipython-input-4-4923cdf72d8b>:1: SettingWithCopyWarning: \n",
            "A value is trying to be set on a copy of a slice from a DataFrame\n",
            "\n",
            "See the caveats in the documentation: https://pandas.pydata.org/pandas-docs/stable/user_guide/indexing.html#returning-a-view-versus-a-copy\n",
            "  df.name[df.name == 'grapefruit'] = 0\n",
            "<ipython-input-4-4923cdf72d8b>:2: SettingWithCopyWarning: \n",
            "A value is trying to be set on a copy of a slice from a DataFrame\n",
            "\n",
            "See the caveats in the documentation: https://pandas.pydata.org/pandas-docs/stable/user_guide/indexing.html#returning-a-view-versus-a-copy\n",
            "  df.name[df.name == 'orange']=1\n"
          ]
        }
      ]
    },
    {
      "cell_type": "code",
      "source": [
        "#mengubah data kategori mjd numerik berdsrkan urutan abjad\n",
        "from sklearn import preprocessing\n",
        "\n",
        "label_encoder = preprocessing.LabelEncoder()\n",
        "df['name']= label_encoder.fit_transform(df['name'])\n",
        "print(df)"
      ],
      "metadata": {
        "colab": {
          "base_uri": "https://localhost:8080/"
        },
        "id": "it2SvXDNIKWe",
        "outputId": "edcb6afc-b5a3-41c3-fd1f-917ae587205d"
      },
      "execution_count": null,
      "outputs": [
        {
          "output_type": "stream",
          "name": "stdout",
          "text": [
            "      name  diameter  weight  red  green  blue\n",
            "0        1      2.96   86.76  172     85     2\n",
            "1        1      3.91   88.05  166     78     3\n",
            "2        1      4.42   95.17  156     81     2\n",
            "3        1      4.47   95.60  163     81     4\n",
            "4        1      4.48   95.76  161     72     9\n",
            "...    ...       ...     ...  ...    ...   ...\n",
            "9995     0     15.35  253.89  149     77    20\n",
            "9996     0     15.41  254.67  148     68     7\n",
            "9997     0     15.59  256.50  168     82    20\n",
            "9998     0     15.92  260.14  142     72    11\n",
            "9999     0     16.45  261.51  152     74     2\n",
            "\n",
            "[10000 rows x 6 columns]\n"
          ]
        }
      ]
    },
    {
      "cell_type": "code",
      "source": [
        "df.info()\n",
        "dataset = df.values #mengubah dataset mjd dataframe dg fungsi values"
      ],
      "metadata": {
        "colab": {
          "base_uri": "https://localhost:8080/"
        },
        "id": "QQjWkfF4I0x4",
        "outputId": "e63d337e-cf8e-4211-d1b2-8655a3891113"
      },
      "execution_count": null,
      "outputs": [
        {
          "output_type": "stream",
          "name": "stdout",
          "text": [
            "<class 'pandas.core.frame.DataFrame'>\n",
            "RangeIndex: 10000 entries, 0 to 9999\n",
            "Data columns (total 6 columns):\n",
            " #   Column    Non-Null Count  Dtype  \n",
            "---  ------    --------------  -----  \n",
            " 0   name      10000 non-null  int64  \n",
            " 1   diameter  10000 non-null  float64\n",
            " 2   weight    10000 non-null  float64\n",
            " 3   red       10000 non-null  int64  \n",
            " 4   green     10000 non-null  int64  \n",
            " 5   blue      10000 non-null  int64  \n",
            "dtypes: float64(2), int64(4)\n",
            "memory usage: 468.9 KB\n"
          ]
        }
      ]
    },
    {
      "cell_type": "code",
      "source": [
        "#memisahkan atribut independen dan dependen (label) pd dataset\n",
        "'''\n",
        "memilih 5 kolom terakhir sbg atribut. bilangan sblm koma utk\n",
        "memilih baris pd dataframe. bilangan stlh koma utk memilih kolom\n",
        "pd dataframe'''\n",
        "X = dataset[:,1:6]\n",
        "y = dataset[:,0]\n",
        "\n",
        "'''\n",
        "penting utk memisahkan label dari dataset. pd dataset di atas,\n",
        "label terdpt pd kolom pertama.'''\n"
      ],
      "metadata": {
        "colab": {
          "base_uri": "https://localhost:8080/",
          "height": 52
        },
        "id": "R5dGABpOJ_rZ",
        "outputId": "055b02a5-fa32-4c78-b754-20c79130bd96"
      },
      "execution_count": null,
      "outputs": [
        {
          "output_type": "execute_result",
          "data": {
            "text/plain": [
              "'\\npenting utk memisahkan label dari dataset. pd dataset di atas,\\nlabel terdpt pd kolom pertama.'"
            ],
            "application/vnd.google.colaboratory.intrinsic+json": {
              "type": "string"
            }
          },
          "metadata": {},
          "execution_count": 7
        }
      ]
    },
    {
      "cell_type": "code",
      "source": [
        "#PEMBAGIAN DATASET MJD DATA TRAINING DAN DATA TESTING\n",
        "\n",
        "'''\n",
        "kita bisa langsung membagi dataset ke dlm data training dan data testing, akan\n",
        "ttpi dataset yg kita pny saat ini msh memiliki rentang cukup besar pd masing2 kolomnya.\n",
        "dlm hal ini fitur dg rentang nilai yg bsr dpt mendominasi perhitungan\n",
        "shg kita perlu normalisasi utk menyeimbangkan pengaruh setiap fitur model.\n",
        "'''\n",
        "\n",
        "from sklearn import preprocessing\n",
        "min_max_scaler = preprocessing.MinMaxScaler()\n",
        "X_scale = min_max_scaler.fit_transform(X)\n",
        "X_scale\n",
        "\n",
        "#bagi mjd data training dan data testing\n",
        "from sklearn.model_selection import train_test_split\n",
        "X_train, X_test, Y_train, Y_test = train_test_split(X_scale, y, test_size = 0.3)\n",
        "\n",
        "'''\n",
        "fungsi dari train_test_split dpt membantu kita utk melakukan\n",
        "training dan testing dg mudah. pada practice ini, kita akan\n",
        "menggunakan 30% dari keseluruhan sbg data testing dan 70% sbg data\n",
        "training.\n",
        "'''\n"
      ],
      "metadata": {
        "id": "VTfivOnWLGyX"
      },
      "execution_count": null,
      "outputs": []
    },
    {
      "cell_type": "code",
      "source": [
        "#PROSES MEMBANGUN MODEL NEURAL NETWORK\n",
        "from keras.models import Sequential\n",
        "from keras.layers import Dense\n",
        "\n",
        "model = Sequential([\n",
        "    Dense(32, activation = 'relu', input_shape = (5,)),\n",
        "    Dense(32, activation = 'relu'),\n",
        "    Dense(1, activation = 'sigmoid')\n",
        "])\n",
        "\n",
        "'''\n",
        "utk model yg dikembangkan adlh model sequential yg pny 3 buah layer.\n",
        "fungsi aktivasi pd 2 layer pertama adlh relu. utk layer terakhir,\n",
        "kita isi parameter unit dg 1, dimn output dr model NN adlh 1 bil. numerik.\n",
        "fungsi aktivasi pd layer terakhir adlh sigmoid, krn bisa memetakan probability\n",
        "dari 0-1. sigmoid cocok krn digunakan dlm permasalahn klasifikasi biner.'''\n",
        "\n",
        "\n",
        "model.compile(optimizer ='sgd',\n",
        "              loss = 'binary_crossentropy',\n",
        "              metrics = ['accuracy'])\n",
        "model.fit(X_train, Y_train, epochs = 100)\n",
        "\n",
        "'''\n",
        "utk menyelesaikan model ini, kita perlu menentukan optimizer dan loss\n",
        "function utk menyelesaikan model.\n",
        "- optimizer, kita gunakan sgd (stochastic gradient descent). krn umum dan\n",
        "cocok digunakan pd dataset ukurn kecil\n",
        "- loss, kita gunakan binary_crossentropy (krn ada 2 kelas/biner)\n",
        "- accuracy, digunakan utk menampilkan akurasi pd setiap pelatihan model"
      ],
      "metadata": {
        "id": "-2FivjvnFapZ"
      },
      "execution_count": null,
      "outputs": []
    }
  ]
}